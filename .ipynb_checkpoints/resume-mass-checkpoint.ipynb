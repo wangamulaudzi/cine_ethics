{
 "cells": [
  {
   "cell_type": "code",
   "execution_count": 2,
   "id": "ef7e05a6-c2ed-4b89-9f7d-7ccd8f531e5a",
   "metadata": {
    "scrolled": true
   },
   "outputs": [
    {
     "data": {
      "text/html": [
       "<div>\n",
       "<style scoped>\n",
       "    .dataframe tbody tr th:only-of-type {\n",
       "        vertical-align: middle;\n",
       "    }\n",
       "\n",
       "    .dataframe tbody tr th {\n",
       "        vertical-align: top;\n",
       "    }\n",
       "\n",
       "    .dataframe thead th {\n",
       "        text-align: right;\n",
       "    }\n",
       "</style>\n",
       "<table border=\"1\" class=\"dataframe\">\n",
       "  <thead>\n",
       "    <tr style=\"text-align: right;\">\n",
       "      <th></th>\n",
       "      <th>title</th>\n",
       "      <th>paths</th>\n",
       "      <th>imdb_id_x</th>\n",
       "      <th>plot_synopsis</th>\n",
       "      <th>tags</th>\n",
       "      <th>split</th>\n",
       "      <th>synopsis_source</th>\n",
       "      <th>imdb_id_y</th>\n",
       "      <th>synopsis</th>\n",
       "      <th>genre</th>\n",
       "    </tr>\n",
       "  </thead>\n",
       "  <tbody>\n",
       "    <tr>\n",
       "      <th>0</th>\n",
       "      <td>12 monkeys</td>\n",
       "      <td>data/resized_frames/12 Monkeys (1995)</td>\n",
       "      <td>tt3148266</td>\n",
       "      <td>A deadly virus released in 1996 wipes out almo...</td>\n",
       "      <td>murder</td>\n",
       "      <td>train</td>\n",
       "      <td>wikipedia</td>\n",
       "      <td>tt75933</td>\n",
       "      <td>In a future world devastated by disease, a con...</td>\n",
       "      <td>scifi</td>\n",
       "    </tr>\n",
       "    <tr>\n",
       "      <th>1</th>\n",
       "      <td>21 grams</td>\n",
       "      <td>data/resized_frames/21 Grams (2003)</td>\n",
       "      <td>tt0315733</td>\n",
       "      <td>The story is told in a non-linear manner. The ...</td>\n",
       "      <td>suspenseful, boring, murder, realism, depressi...</td>\n",
       "      <td>test</td>\n",
       "      <td>wikipedia</td>\n",
       "      <td>tt18010</td>\n",
       "      <td>A freak accident brings together a critically ...</td>\n",
       "      <td>crime</td>\n",
       "    </tr>\n",
       "  </tbody>\n",
       "</table>\n",
       "</div>"
      ],
      "text/plain": [
       "        title                                  paths  imdb_id_x  \\\n",
       "0  12 monkeys  data/resized_frames/12 Monkeys (1995)  tt3148266   \n",
       "1    21 grams    data/resized_frames/21 Grams (2003)  tt0315733   \n",
       "\n",
       "                                       plot_synopsis  \\\n",
       "0  A deadly virus released in 1996 wipes out almo...   \n",
       "1  The story is told in a non-linear manner. The ...   \n",
       "\n",
       "                                                tags  split synopsis_source  \\\n",
       "0                                             murder  train       wikipedia   \n",
       "1  suspenseful, boring, murder, realism, depressi...   test       wikipedia   \n",
       "\n",
       "  imdb_id_y                                           synopsis  genre  \n",
       "0   tt75933  In a future world devastated by disease, a con...  scifi  \n",
       "1   tt18010  A freak accident brings together a critically ...  crime  "
      ]
     },
     "execution_count": 2,
     "metadata": {},
     "output_type": "execute_result"
    }
   ],
   "source": [
    "import pandas as pd\n",
    "from transformers import pipeline\n",
    "\n",
    "\n",
    "df = pd.read_csv('scripts/final_table.csv')\n",
    "df.head(2)"
   ]
  },
  {
   "cell_type": "code",
   "execution_count": 3,
   "id": "cecc8790-bd46-4928-b232-f0927d79b8c6",
   "metadata": {},
   "outputs": [
    {
     "data": {
      "text/plain": [
       "0    A deadly virus released in 1996 wipes out almo...\n",
       "1    The story is told in a non-linear manner. The ...\n",
       "2    Late one evening, at the U.S. Naval Base in Gu...\n",
       "3    Leland Jones and William 'Billy' Orser (Stephe...\n",
       "4    In the future \"seven years from now,\" America ...\n",
       "Name: plot_synopsis, dtype: object"
      ]
     },
     "execution_count": 3,
     "metadata": {},
     "output_type": "execute_result"
    }
   ],
   "source": [
    "df['plot_synopsis'].head()\t"
   ]
  },
  {
   "cell_type": "code",
   "execution_count": 7,
   "id": "1f8cdf0d-539a-4182-b230-d954c63ca14d",
   "metadata": {},
   "outputs": [
    {
     "name": "stderr",
     "output_type": "stream",
     "text": [
      "All PyTorch model weights were used when initializing TFT5ForConditionalGeneration.\n",
      "\n",
      "All the weights of TFT5ForConditionalGeneration were initialized from the PyTorch model.\n",
      "If your task is similar to the task the model of the checkpoint was trained on, you can already use TFT5ForConditionalGeneration for predictions without further training.\n"
     ]
    }
   ],
   "source": [
    "import pandas as pd\n",
    "from transformers import pipeline\n",
    "\n",
    "# Initialize the summarization pipeline with the model\n",
    "summarizer = pipeline(\"summarization\", model=\"Falconsai/text_summarization\")\n",
    "\n",
    "def summarize_column(df, column_name):\n",
    "    # Function to summarize each row in the specified column\n",
    "    def summarize_text(text):\n",
    "        summary = summarizer(text, max_length=130, min_length=30, do_sample=False)\n",
    "        return summary[0]['summary_text']\n",
    "    \n",
    "    # Apply the summarization function to each row in the specified column\n",
    "    df['Summarized_' + column_name] = df[column_name].apply(summarize_text)\n",
    "    return df\n",
    "# Example usage:\n",
    "# Assuming df is your DataFrame and 'synopsis' is the column you want to summarize\n",
    "# df = summarize_column(df, 'synopsis')\n"
   ]
  },
  {
   "cell_type": "code",
   "execution_count": 6,
   "id": "df1ac33b-948a-4853-993d-870a56bf9e62",
   "metadata": {},
   "outputs": [
    {
     "ename": "NameError",
     "evalue": "name 'summary' is not defined",
     "output_type": "error",
     "traceback": [
      "\u001b[0;31m---------------------------------------------------------------------------\u001b[0m",
      "\u001b[0;31mNameError\u001b[0m                                 Traceback (most recent call last)",
      "Cell \u001b[0;32mIn[6], line 1\u001b[0m\n\u001b[0;32m----> 1\u001b[0m \u001b[43msummary\u001b[49m[\u001b[38;5;241m0\u001b[39m][\u001b[38;5;124m'\u001b[39m\u001b[38;5;124msummary_text\u001b[39m\u001b[38;5;124m'\u001b[39m]\n",
      "\u001b[0;31mNameError\u001b[0m: name 'summary' is not defined"
     ]
    }
   ],
   "source": [
    "df = summarize_column(df, 'plot_synopsis')"
   ]
  },
  {
   "cell_type": "code",
   "execution_count": null,
   "id": "2b3270b9-b5c5-4644-b74a-9faf4e7bf7b6",
   "metadata": {},
   "outputs": [],
   "source": []
  }
 ],
 "metadata": {
  "kernelspec": {
   "display_name": "Python 3 (ipykernel)",
   "language": "python",
   "name": "python3"
  },
  "language_info": {
   "codemirror_mode": {
    "name": "ipython",
    "version": 3
   },
   "file_extension": ".py",
   "mimetype": "text/x-python",
   "name": "python",
   "nbconvert_exporter": "python",
   "pygments_lexer": "ipython3",
   "version": "3.10.6"
  }
 },
 "nbformat": 4,
 "nbformat_minor": 5
}
