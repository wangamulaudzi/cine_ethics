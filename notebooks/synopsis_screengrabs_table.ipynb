{
 "cells": [
  {
   "cell_type": "markdown",
   "metadata": {},
   "source": [
    "# Final Data Table\n",
    "This notebook merges all the tables of the cine_ethics dataset.\n",
    "\n",
    "## Import Statements"
   ]
  },
  {
   "cell_type": "code",
   "execution_count": 1,
   "metadata": {},
   "outputs": [],
   "source": [
    "from google.cloud import storage\n",
    "import os\n",
    "import pandas as pd\n",
    "import re\n",
    "from io import StringIO"
   ]
  },
  {
   "cell_type": "markdown",
   "metadata": {},
   "source": [
    "## The Data\n",
    "\n",
    "### MPST Full Dataset"
   ]
  },
  {
   "cell_type": "code",
   "execution_count": 3,
   "metadata": {},
   "outputs": [
    {
     "data": {
      "text/html": [
       "<div>\n",
       "<style scoped>\n",
       "    .dataframe tbody tr th:only-of-type {\n",
       "        vertical-align: middle;\n",
       "    }\n",
       "\n",
       "    .dataframe tbody tr th {\n",
       "        vertical-align: top;\n",
       "    }\n",
       "\n",
       "    .dataframe thead th {\n",
       "        text-align: right;\n",
       "    }\n",
       "</style>\n",
       "<table border=\"1\" class=\"dataframe\">\n",
       "  <thead>\n",
       "    <tr style=\"text-align: right;\">\n",
       "      <th></th>\n",
       "      <th>imdb_id</th>\n",
       "      <th>title</th>\n",
       "      <th>plot_synopsis</th>\n",
       "      <th>tags</th>\n",
       "      <th>split</th>\n",
       "      <th>synopsis_source</th>\n",
       "    </tr>\n",
       "  </thead>\n",
       "  <tbody>\n",
       "    <tr>\n",
       "      <th>0</th>\n",
       "      <td>tt0057603</td>\n",
       "      <td>i tre volti della paura</td>\n",
       "      <td>Note: this synopsis is for the orginal Italian...</td>\n",
       "      <td>cult, horror, gothic, murder, atmospheric</td>\n",
       "      <td>train</td>\n",
       "      <td>imdb</td>\n",
       "    </tr>\n",
       "    <tr>\n",
       "      <th>1</th>\n",
       "      <td>tt1733125</td>\n",
       "      <td>dungeons &amp; dragons: the book of vile darkness</td>\n",
       "      <td>Two thousand years ago, Nhagruul the Foul, a s...</td>\n",
       "      <td>violence</td>\n",
       "      <td>train</td>\n",
       "      <td>imdb</td>\n",
       "    </tr>\n",
       "    <tr>\n",
       "      <th>2</th>\n",
       "      <td>tt0033045</td>\n",
       "      <td>the shop around the corner</td>\n",
       "      <td>Matuschek's, a gift store in Budapest, is the ...</td>\n",
       "      <td>romantic</td>\n",
       "      <td>test</td>\n",
       "      <td>imdb</td>\n",
       "    </tr>\n",
       "    <tr>\n",
       "      <th>3</th>\n",
       "      <td>tt0113862</td>\n",
       "      <td>mr. holland's opus</td>\n",
       "      <td>Glenn Holland, not a morning person by anyone'...</td>\n",
       "      <td>inspiring, romantic, stupid, feel-good</td>\n",
       "      <td>train</td>\n",
       "      <td>imdb</td>\n",
       "    </tr>\n",
       "    <tr>\n",
       "      <th>4</th>\n",
       "      <td>tt0086250</td>\n",
       "      <td>scarface</td>\n",
       "      <td>In May 1980, a Cuban man named Tony Montana (A...</td>\n",
       "      <td>cruelty, murder, dramatic, cult, violence, atm...</td>\n",
       "      <td>val</td>\n",
       "      <td>imdb</td>\n",
       "    </tr>\n",
       "  </tbody>\n",
       "</table>\n",
       "</div>"
      ],
      "text/plain": [
       "     imdb_id                                          title  \\\n",
       "0  tt0057603                        i tre volti della paura   \n",
       "1  tt1733125  dungeons & dragons: the book of vile darkness   \n",
       "2  tt0033045                     the shop around the corner   \n",
       "3  tt0113862                             mr. holland's opus   \n",
       "4  tt0086250                                       scarface   \n",
       "\n",
       "                                       plot_synopsis  \\\n",
       "0  Note: this synopsis is for the orginal Italian...   \n",
       "1  Two thousand years ago, Nhagruul the Foul, a s...   \n",
       "2  Matuschek's, a gift store in Budapest, is the ...   \n",
       "3  Glenn Holland, not a morning person by anyone'...   \n",
       "4  In May 1980, a Cuban man named Tony Montana (A...   \n",
       "\n",
       "                                                tags  split synopsis_source  \n",
       "0          cult, horror, gothic, murder, atmospheric  train            imdb  \n",
       "1                                           violence  train            imdb  \n",
       "2                                           romantic   test            imdb  \n",
       "3             inspiring, romantic, stupid, feel-good  train            imdb  \n",
       "4  cruelty, murder, dramatic, cult, violence, atm...    val            imdb  "
      ]
     },
     "execution_count": 3,
     "metadata": {},
     "output_type": "execute_result"
    }
   ],
   "source": [
    "mpst_full_data_df = pd.read_csv(\"../raw_data/data_mpst_full_data.csv\", sep=\";\", skiprows=1)\n",
    "\n",
    "# Make titles lower case\n",
    "mpst_full_data_df[\"title\"] = mpst_full_data_df[\"title\"].apply(lambda x: x.lower())\n",
    "\n",
    "mpst_full_data_df.head()"
   ]
  },
  {
   "cell_type": "code",
   "execution_count": 4,
   "metadata": {},
   "outputs": [
    {
     "data": {
      "text/plain": [
       "(14828, 6)"
      ]
     },
     "execution_count": 4,
     "metadata": {},
     "output_type": "execute_result"
    }
   ],
   "source": [
    "mpst_full_data_df.shape"
   ]
  },
  {
   "cell_type": "markdown",
   "metadata": {},
   "source": [
    "### Screengrabs Dataset"
   ]
  },
  {
   "cell_type": "code",
   "execution_count": 2,
   "metadata": {},
   "outputs": [
    {
     "name": "stdout",
     "output_type": "stream",
     "text": [
      "Your browser has been opened to visit:\n",
      "\n",
      "    https://accounts.google.com/o/oauth2/auth?response_type=code&client_id=32555940559.apps.googleusercontent.com&redirect_uri=http%3A%2F%2Flocalhost%3A8085%2F&scope=openid+https%3A%2F%2Fwww.googleapis.com%2Fauth%2Fuserinfo.email+https%3A%2F%2Fwww.googleapis.com%2Fauth%2Fcloud-platform+https%3A%2F%2Fwww.googleapis.com%2Fauth%2Fappengine.admin+https%3A%2F%2Fwww.googleapis.com%2Fauth%2Fsqlservice.login+https%3A%2F%2Fwww.googleapis.com%2Fauth%2Fcompute+https%3A%2F%2Fwww.googleapis.com%2Fauth%2Faccounts.reauth&state=A4l6MD7yHrQaJiJiU2T402475djrtj&access_type=offline&code_challenge=A-WxI5WWPyo8xmEwKeJgD7ArhW40fAQ8h6fywo5Y80I&code_challenge_method=S256\n",
      "\n",
      "\n",
      "You are now logged in as [w.m.mulaudzi@gmail.com].\n",
      "Your current project is [ornate-lens-411311].  You can change this setting by running:\n",
      "  $ gcloud config set project PROJECT_ID\n"
     ]
    }
   ],
   "source": [
    "!gcloud auth login"
   ]
  },
  {
   "cell_type": "code",
   "execution_count": 3,
   "metadata": {},
   "outputs": [],
   "source": [
    "# Log into the cine_ethics project\n",
    "project_id = \"ornate-lens-411311\"\n",
    "client = storage.Client(project=project_id)\n",
    "\n",
    "bucket_name = \"cine_ethics\"\n",
    "bucket = client.get_bucket(bucket_name)"
   ]
  },
  {
   "cell_type": "code",
   "execution_count": 40,
   "metadata": {},
   "outputs": [],
   "source": [
    "# Path to the movie on the bucket\n",
    "movies_path = \"data/resized_frames/\""
   ]
  },
  {
   "cell_type": "code",
   "execution_count": 8,
   "metadata": {},
   "outputs": [
    {
     "name": "stdout",
     "output_type": "stream",
     "text": [
      "802\n"
     ]
    }
   ],
   "source": [
    "# Get blobs within the movie folder\n",
    "blobs = bucket.list_blobs(prefix=movies_path)\n",
    "\n",
    "# Dictionary to store movie titles and paths\n",
    "movie_info = {}\n",
    "\n",
    "for blob in blobs:\n",
    "    # Get movie name in format title (year)\n",
    "    movie_name_year_split = os.path.dirname(blob.name).split(\"/\")\n",
    "    movie_name_year = movie_name_year_split[2]\n",
    "\n",
    "    # Strip year from title\n",
    "    movie_name = re.sub(r\"\\s*\\(\\d+\\)\", \"\", movie_name_year).lower()\n",
    "\n",
    "    # Add movie title and path to the dictionary\n",
    "    movie_info[movie_name] = \"/\".join(movie_name_year_split)\n",
    "\n",
    "print(len(movie_info))"
   ]
  },
  {
   "cell_type": "code",
   "execution_count": 9,
   "metadata": {},
   "outputs": [
    {
     "data": {
      "text/html": [
       "<div>\n",
       "<style scoped>\n",
       "    .dataframe tbody tr th:only-of-type {\n",
       "        vertical-align: middle;\n",
       "    }\n",
       "\n",
       "    .dataframe tbody tr th {\n",
       "        vertical-align: top;\n",
       "    }\n",
       "\n",
       "    .dataframe thead th {\n",
       "        text-align: right;\n",
       "    }\n",
       "</style>\n",
       "<table border=\"1\" class=\"dataframe\">\n",
       "  <thead>\n",
       "    <tr style=\"text-align: right;\">\n",
       "      <th></th>\n",
       "      <th>title</th>\n",
       "      <th>paths</th>\n",
       "    </tr>\n",
       "  </thead>\n",
       "  <tbody>\n",
       "    <tr>\n",
       "      <th>0</th>\n",
       "      <td>10 things i hate about you</td>\n",
       "      <td>data/resized_frames/10 Things I Hate About You...</td>\n",
       "    </tr>\n",
       "    <tr>\n",
       "      <th>1</th>\n",
       "      <td>12 monkeys</td>\n",
       "      <td>data/resized_frames/12 Monkeys (1995)</td>\n",
       "    </tr>\n",
       "    <tr>\n",
       "      <th>2</th>\n",
       "      <td>12 years a slave</td>\n",
       "      <td>data/resized_frames/12 Years a Slave (2013)</td>\n",
       "    </tr>\n",
       "    <tr>\n",
       "      <th>3</th>\n",
       "      <td>127 hours</td>\n",
       "      <td>data/resized_frames/127 Hours (2010)</td>\n",
       "    </tr>\n",
       "    <tr>\n",
       "      <th>4</th>\n",
       "      <td>13 hours the secret soldiers of benghazi</td>\n",
       "      <td>data/resized_frames/13 Hours The Secret Soldie...</td>\n",
       "    </tr>\n",
       "  </tbody>\n",
       "</table>\n",
       "</div>"
      ],
      "text/plain": [
       "                                      title  \\\n",
       "0                10 things i hate about you   \n",
       "1                                12 monkeys   \n",
       "2                          12 years a slave   \n",
       "3                                 127 hours   \n",
       "4  13 hours the secret soldiers of benghazi   \n",
       "\n",
       "                                               paths  \n",
       "0  data/resized_frames/10 Things I Hate About You...  \n",
       "1              data/resized_frames/12 Monkeys (1995)  \n",
       "2        data/resized_frames/12 Years a Slave (2013)  \n",
       "3               data/resized_frames/127 Hours (2010)  \n",
       "4  data/resized_frames/13 Hours The Secret Soldie...  "
      ]
     },
     "execution_count": 9,
     "metadata": {},
     "output_type": "execute_result"
    }
   ],
   "source": [
    "screengrabs_df = pd.DataFrame.from_dict(movie_info, orient='index', columns=[\"title\"])\n",
    "\n",
    "# Reset index to make titles a column\n",
    "screengrabs_df.reset_index(inplace=True)\n",
    "screengrabs_df.columns = [\"title\", \"paths\"]\n",
    "\n",
    "screengrabs_df.head()"
   ]
  },
  {
   "cell_type": "markdown",
   "metadata": {},
   "source": [
    "### Merging The Two"
   ]
  },
  {
   "cell_type": "code",
   "execution_count": 10,
   "metadata": {},
   "outputs": [
    {
     "data": {
      "text/html": [
       "<div>\n",
       "<style scoped>\n",
       "    .dataframe tbody tr th:only-of-type {\n",
       "        vertical-align: middle;\n",
       "    }\n",
       "\n",
       "    .dataframe tbody tr th {\n",
       "        vertical-align: top;\n",
       "    }\n",
       "\n",
       "    .dataframe thead th {\n",
       "        text-align: right;\n",
       "    }\n",
       "</style>\n",
       "<table border=\"1\" class=\"dataframe\">\n",
       "  <thead>\n",
       "    <tr style=\"text-align: right;\">\n",
       "      <th></th>\n",
       "      <th>title</th>\n",
       "      <th>paths</th>\n",
       "      <th>imdb_id</th>\n",
       "      <th>plot_synopsis</th>\n",
       "      <th>tags</th>\n",
       "      <th>split</th>\n",
       "      <th>synopsis_source</th>\n",
       "    </tr>\n",
       "  </thead>\n",
       "  <tbody>\n",
       "    <tr>\n",
       "      <th>0</th>\n",
       "      <td>10 things i hate about you</td>\n",
       "      <td>data/resized_frames/10 Things I Hate About You...</td>\n",
       "      <td>tt0147800</td>\n",
       "      <td>Cameron James (Joseph Gordon-Levitt), the new ...</td>\n",
       "      <td>comedy, gothic, adult comedy, clever, romantic...</td>\n",
       "      <td>train</td>\n",
       "      <td>imdb</td>\n",
       "    </tr>\n",
       "    <tr>\n",
       "      <th>1</th>\n",
       "      <td>12 monkeys</td>\n",
       "      <td>data/resized_frames/12 Monkeys (1995)</td>\n",
       "      <td>tt3148266</td>\n",
       "      <td>A deadly virus released in 1996 wipes out almo...</td>\n",
       "      <td>murder</td>\n",
       "      <td>train</td>\n",
       "      <td>wikipedia</td>\n",
       "    </tr>\n",
       "    <tr>\n",
       "      <th>2</th>\n",
       "      <td>12 years a slave</td>\n",
       "      <td>data/resized_frames/12 Years a Slave (2013)</td>\n",
       "      <td>tt2024544</td>\n",
       "      <td>The movie opens with a group of slaves receivi...</td>\n",
       "      <td>dramatic, boring, historical</td>\n",
       "      <td>test</td>\n",
       "      <td>imdb</td>\n",
       "    </tr>\n",
       "    <tr>\n",
       "      <th>3</th>\n",
       "      <td>127 hours</td>\n",
       "      <td>data/resized_frames/127 Hours (2010)</td>\n",
       "      <td>tt1542344</td>\n",
       "      <td>Mountaineer and adventurer Aron Ralston begins...</td>\n",
       "      <td>dramatic, suspenseful, psychological, flashback</td>\n",
       "      <td>test</td>\n",
       "      <td>wikipedia</td>\n",
       "    </tr>\n",
       "    <tr>\n",
       "      <th>4</th>\n",
       "      <td>13 hours the secret soldiers of benghazi</td>\n",
       "      <td>data/resized_frames/13 Hours The Secret Soldie...</td>\n",
       "      <td>NaN</td>\n",
       "      <td>NaN</td>\n",
       "      <td>NaN</td>\n",
       "      <td>NaN</td>\n",
       "      <td>NaN</td>\n",
       "    </tr>\n",
       "  </tbody>\n",
       "</table>\n",
       "</div>"
      ],
      "text/plain": [
       "                                      title  \\\n",
       "0                10 things i hate about you   \n",
       "1                                12 monkeys   \n",
       "2                          12 years a slave   \n",
       "3                                 127 hours   \n",
       "4  13 hours the secret soldiers of benghazi   \n",
       "\n",
       "                                               paths    imdb_id  \\\n",
       "0  data/resized_frames/10 Things I Hate About You...  tt0147800   \n",
       "1              data/resized_frames/12 Monkeys (1995)  tt3148266   \n",
       "2        data/resized_frames/12 Years a Slave (2013)  tt2024544   \n",
       "3               data/resized_frames/127 Hours (2010)  tt1542344   \n",
       "4  data/resized_frames/13 Hours The Secret Soldie...        NaN   \n",
       "\n",
       "                                       plot_synopsis  \\\n",
       "0  Cameron James (Joseph Gordon-Levitt), the new ...   \n",
       "1  A deadly virus released in 1996 wipes out almo...   \n",
       "2  The movie opens with a group of slaves receivi...   \n",
       "3  Mountaineer and adventurer Aron Ralston begins...   \n",
       "4                                                NaN   \n",
       "\n",
       "                                                tags  split synopsis_source  \n",
       "0  comedy, gothic, adult comedy, clever, romantic...  train            imdb  \n",
       "1                                             murder  train       wikipedia  \n",
       "2                       dramatic, boring, historical   test            imdb  \n",
       "3    dramatic, suspenseful, psychological, flashback   test       wikipedia  \n",
       "4                                                NaN    NaN             NaN  "
      ]
     },
     "execution_count": 10,
     "metadata": {},
     "output_type": "execute_result"
    }
   ],
   "source": [
    "synopsis_screengrabs_df = pd.merge(screengrabs_df, mpst_full_data_df, how='left', on=\"title\")\n",
    "synopsis_screengrabs_df.head()"
   ]
  },
  {
   "cell_type": "code",
   "execution_count": 11,
   "metadata": {},
   "outputs": [
    {
     "data": {
      "text/plain": [
       "(915, 7)"
      ]
     },
     "execution_count": 11,
     "metadata": {},
     "output_type": "execute_result"
    }
   ],
   "source": [
    "synopsis_screengrabs_df.shape"
   ]
  },
  {
   "cell_type": "markdown",
   "metadata": {},
   "source": [
    "## Cleaning the Merged Table"
   ]
  },
  {
   "cell_type": "code",
   "execution_count": 12,
   "metadata": {},
   "outputs": [
    {
     "data": {
      "text/plain": [
       "title              0.000000\n",
       "paths              0.000000\n",
       "imdb_id            0.285246\n",
       "plot_synopsis      0.285246\n",
       "tags               0.285246\n",
       "split              0.285246\n",
       "synopsis_source    0.285246\n",
       "dtype: float64"
      ]
     },
     "execution_count": 12,
     "metadata": {},
     "output_type": "execute_result"
    }
   ],
   "source": [
    "# Check percentage of missing values\n",
    "synopsis_screengrabs_df.isna().sum() / len(synopsis_screengrabs_df)"
   ]
  },
  {
   "cell_type": "code",
   "execution_count": 13,
   "metadata": {},
   "outputs": [],
   "source": [
    "synopsis_screengrabs_df.dropna(subset=\"plot_synopsis\", inplace=True)"
   ]
  },
  {
   "cell_type": "code",
   "execution_count": 14,
   "metadata": {},
   "outputs": [
    {
     "data": {
      "text/plain": [
       "title              0.0\n",
       "paths              0.0\n",
       "imdb_id            0.0\n",
       "plot_synopsis      0.0\n",
       "tags               0.0\n",
       "split              0.0\n",
       "synopsis_source    0.0\n",
       "dtype: float64"
      ]
     },
     "execution_count": 14,
     "metadata": {},
     "output_type": "execute_result"
    }
   ],
   "source": [
    "# Check percentage of missing values\n",
    "synopsis_screengrabs_df.isna().sum() / len(synopsis_screengrabs_df)"
   ]
  },
  {
   "cell_type": "code",
   "execution_count": 21,
   "metadata": {},
   "outputs": [],
   "source": [
    "synopsis_screengrabs_df.drop_duplicates(subset=\"title\", inplace=True)"
   ]
  },
  {
   "cell_type": "code",
   "execution_count": 22,
   "metadata": {},
   "outputs": [
    {
     "data": {
      "text/plain": [
       "(541, 7)"
      ]
     },
     "execution_count": 22,
     "metadata": {},
     "output_type": "execute_result"
    }
   ],
   "source": [
    "synopsis_screengrabs_df.shape"
   ]
  },
  {
   "cell_type": "code",
   "execution_count": 23,
   "metadata": {},
   "outputs": [],
   "source": [
    "synopsis_screengrabs_df.to_csv(\"../raw_data/synopsis_screengrabs_final_table.csv\", index=False)"
   ]
  },
  {
   "cell_type": "markdown",
   "metadata": {},
   "source": [
    "## Adding Genres"
   ]
  },
  {
   "cell_type": "code",
   "execution_count": 4,
   "metadata": {},
   "outputs": [],
   "source": [
    "# Load synopsis_screengrabs_df\n",
    "synopsis_screengrabs_df = pd.read_csv(\"../raw_data/synopsis_screengrabs_final_table.csv\")"
   ]
  },
  {
   "cell_type": "code",
   "execution_count": 5,
   "metadata": {},
   "outputs": [],
   "source": [
    "genres_path = \"data/movie-genre-prediction/\""
   ]
  },
  {
   "cell_type": "code",
   "execution_count": 6,
   "metadata": {},
   "outputs": [],
   "source": [
    "# Load from google storage\n",
    "# Get blobs within the genres folder\n",
    "blobs = bucket.list_blobs(prefix=genres_path)\n",
    "\n",
    "dataframes = []\n",
    "\n",
    "for blob in blobs:\n",
    "    if os.path.basename(blob.name) == \"train.tsv\":\n",
    "        download = blob.download_as_text()\n",
    "\n",
    "        # Convert the text content to a StringIO object\n",
    "        csv_data = StringIO(download)\n",
    "\n",
    "        dataframes.append(pd.read_csv(csv_data, sep='\\t'))"
   ]
  },
  {
   "cell_type": "code",
   "execution_count": 7,
   "metadata": {},
   "outputs": [
    {
     "name": "stdout",
     "output_type": "stream",
     "text": [
      "Shape of dataframe: (54000, 4)\n"
     ]
    },
    {
     "data": {
      "text/html": [
       "<div>\n",
       "<style scoped>\n",
       "    .dataframe tbody tr th:only-of-type {\n",
       "        vertical-align: middle;\n",
       "    }\n",
       "\n",
       "    .dataframe tbody tr th {\n",
       "        vertical-align: top;\n",
       "    }\n",
       "\n",
       "    .dataframe thead th {\n",
       "        text-align: right;\n",
       "    }\n",
       "</style>\n",
       "<table border=\"1\" class=\"dataframe\">\n",
       "  <thead>\n",
       "    <tr style=\"text-align: right;\">\n",
       "      <th></th>\n",
       "      <th>id</th>\n",
       "      <th>movie_name</th>\n",
       "      <th>synopsis</th>\n",
       "      <th>genre</th>\n",
       "    </tr>\n",
       "  </thead>\n",
       "  <tbody>\n",
       "    <tr>\n",
       "      <th>0</th>\n",
       "      <td>44978</td>\n",
       "      <td>Super Me</td>\n",
       "      <td>A young scriptwriter starts bringing valuable ...</td>\n",
       "      <td>fantasy</td>\n",
       "    </tr>\n",
       "    <tr>\n",
       "      <th>1</th>\n",
       "      <td>50185</td>\n",
       "      <td>Entity Project</td>\n",
       "      <td>A director and her friends renting a haunted h...</td>\n",
       "      <td>horror</td>\n",
       "    </tr>\n",
       "    <tr>\n",
       "      <th>2</th>\n",
       "      <td>34131</td>\n",
       "      <td>Behavioral Family Therapy for Serious Psychiat...</td>\n",
       "      <td>This is an educational video for families and ...</td>\n",
       "      <td>family</td>\n",
       "    </tr>\n",
       "    <tr>\n",
       "      <th>3</th>\n",
       "      <td>78522</td>\n",
       "      <td>Blood Glacier</td>\n",
       "      <td>Scientists working in the Austrian Alps discov...</td>\n",
       "      <td>scifi</td>\n",
       "    </tr>\n",
       "    <tr>\n",
       "      <th>4</th>\n",
       "      <td>2206</td>\n",
       "      <td>Apat na anino</td>\n",
       "      <td>Buy Day - Four Men Widely - Apart in Life - By...</td>\n",
       "      <td>action</td>\n",
       "    </tr>\n",
       "  </tbody>\n",
       "</table>\n",
       "</div>"
      ],
      "text/plain": [
       "      id                                         movie_name  \\\n",
       "0  44978                                           Super Me   \n",
       "1  50185                                     Entity Project   \n",
       "2  34131  Behavioral Family Therapy for Serious Psychiat...   \n",
       "3  78522                                      Blood Glacier   \n",
       "4   2206                                      Apat na anino   \n",
       "\n",
       "                                            synopsis    genre  \n",
       "0  A young scriptwriter starts bringing valuable ...  fantasy  \n",
       "1  A director and her friends renting a haunted h...   horror  \n",
       "2  This is an educational video for families and ...   family  \n",
       "3  Scientists working in the Austrian Alps discov...    scifi  \n",
       "4  Buy Day - Four Men Widely - Apart in Life - By...   action  "
      ]
     },
     "execution_count": 7,
     "metadata": {},
     "output_type": "execute_result"
    }
   ],
   "source": [
    "train_df = dataframes[0]\n",
    "print(\"Shape of dataframe:\", train_df.shape)\n",
    "train_df.head()"
   ]
  },
  {
   "cell_type": "code",
   "execution_count": 8,
   "metadata": {},
   "outputs": [
    {
     "data": {
      "text/plain": [
       "genre\n",
       "fantasy      5400\n",
       "horror       5400\n",
       "family       5400\n",
       "scifi        5400\n",
       "action       5400\n",
       "crime        5400\n",
       "adventure    5400\n",
       "mystery      5400\n",
       "romance      5400\n",
       "thriller     5400\n",
       "Name: count, dtype: int64"
      ]
     },
     "execution_count": 8,
     "metadata": {},
     "output_type": "execute_result"
    }
   ],
   "source": [
    "train_df[\"genre\"].value_counts()"
   ]
  },
  {
   "cell_type": "code",
   "execution_count": 9,
   "metadata": {},
   "outputs": [],
   "source": [
    "# Rename the columns\n",
    "train_df.rename(columns={\"id\": \"imdb_id\", \"movie_name\": \"title\"}, inplace=True)"
   ]
  },
  {
   "cell_type": "code",
   "execution_count": 10,
   "metadata": {},
   "outputs": [
    {
     "data": {
      "text/html": [
       "<div>\n",
       "<style scoped>\n",
       "    .dataframe tbody tr th:only-of-type {\n",
       "        vertical-align: middle;\n",
       "    }\n",
       "\n",
       "    .dataframe tbody tr th {\n",
       "        vertical-align: top;\n",
       "    }\n",
       "\n",
       "    .dataframe thead th {\n",
       "        text-align: right;\n",
       "    }\n",
       "</style>\n",
       "<table border=\"1\" class=\"dataframe\">\n",
       "  <thead>\n",
       "    <tr style=\"text-align: right;\">\n",
       "      <th></th>\n",
       "      <th>imdb_id</th>\n",
       "      <th>title</th>\n",
       "      <th>synopsis</th>\n",
       "      <th>genre</th>\n",
       "    </tr>\n",
       "  </thead>\n",
       "  <tbody>\n",
       "    <tr>\n",
       "      <th>0</th>\n",
       "      <td>tt44978</td>\n",
       "      <td>Super Me</td>\n",
       "      <td>A young scriptwriter starts bringing valuable ...</td>\n",
       "      <td>fantasy</td>\n",
       "    </tr>\n",
       "    <tr>\n",
       "      <th>1</th>\n",
       "      <td>tt50185</td>\n",
       "      <td>Entity Project</td>\n",
       "      <td>A director and her friends renting a haunted h...</td>\n",
       "      <td>horror</td>\n",
       "    </tr>\n",
       "    <tr>\n",
       "      <th>2</th>\n",
       "      <td>tt34131</td>\n",
       "      <td>Behavioral Family Therapy for Serious Psychiat...</td>\n",
       "      <td>This is an educational video for families and ...</td>\n",
       "      <td>family</td>\n",
       "    </tr>\n",
       "    <tr>\n",
       "      <th>3</th>\n",
       "      <td>tt78522</td>\n",
       "      <td>Blood Glacier</td>\n",
       "      <td>Scientists working in the Austrian Alps discov...</td>\n",
       "      <td>scifi</td>\n",
       "    </tr>\n",
       "    <tr>\n",
       "      <th>4</th>\n",
       "      <td>tt2206</td>\n",
       "      <td>Apat na anino</td>\n",
       "      <td>Buy Day - Four Men Widely - Apart in Life - By...</td>\n",
       "      <td>action</td>\n",
       "    </tr>\n",
       "  </tbody>\n",
       "</table>\n",
       "</div>"
      ],
      "text/plain": [
       "   imdb_id                                              title  \\\n",
       "0  tt44978                                           Super Me   \n",
       "1  tt50185                                     Entity Project   \n",
       "2  tt34131  Behavioral Family Therapy for Serious Psychiat...   \n",
       "3  tt78522                                      Blood Glacier   \n",
       "4   tt2206                                      Apat na anino   \n",
       "\n",
       "                                            synopsis    genre  \n",
       "0  A young scriptwriter starts bringing valuable ...  fantasy  \n",
       "1  A director and her friends renting a haunted h...   horror  \n",
       "2  This is an educational video for families and ...   family  \n",
       "3  Scientists working in the Austrian Alps discov...    scifi  \n",
       "4  Buy Day - Four Men Widely - Apart in Life - By...   action  "
      ]
     },
     "execution_count": 10,
     "metadata": {},
     "output_type": "execute_result"
    }
   ],
   "source": [
    "# Map the tt string to the imbd_id\n",
    "train_df[\"imdb_id\"] = train_df[\"imdb_id\"].map(lambda x: \"tt\"+str(x))\n",
    "train_df.head()"
   ]
  },
  {
   "cell_type": "code",
   "execution_count": 11,
   "metadata": {},
   "outputs": [
    {
     "data": {
      "text/html": [
       "<div>\n",
       "<style scoped>\n",
       "    .dataframe tbody tr th:only-of-type {\n",
       "        vertical-align: middle;\n",
       "    }\n",
       "\n",
       "    .dataframe tbody tr th {\n",
       "        vertical-align: top;\n",
       "    }\n",
       "\n",
       "    .dataframe thead th {\n",
       "        text-align: right;\n",
       "    }\n",
       "</style>\n",
       "<table border=\"1\" class=\"dataframe\">\n",
       "  <thead>\n",
       "    <tr style=\"text-align: right;\">\n",
       "      <th></th>\n",
       "      <th>imdb_id</th>\n",
       "      <th>title</th>\n",
       "      <th>synopsis</th>\n",
       "      <th>genre</th>\n",
       "    </tr>\n",
       "  </thead>\n",
       "  <tbody>\n",
       "    <tr>\n",
       "      <th>0</th>\n",
       "      <td>tt44978</td>\n",
       "      <td>super me</td>\n",
       "      <td>A young scriptwriter starts bringing valuable ...</td>\n",
       "      <td>fantasy</td>\n",
       "    </tr>\n",
       "    <tr>\n",
       "      <th>1</th>\n",
       "      <td>tt50185</td>\n",
       "      <td>entity project</td>\n",
       "      <td>A director and her friends renting a haunted h...</td>\n",
       "      <td>horror</td>\n",
       "    </tr>\n",
       "    <tr>\n",
       "      <th>2</th>\n",
       "      <td>tt34131</td>\n",
       "      <td>behavioral family therapy for serious psychiat...</td>\n",
       "      <td>This is an educational video for families and ...</td>\n",
       "      <td>family</td>\n",
       "    </tr>\n",
       "    <tr>\n",
       "      <th>3</th>\n",
       "      <td>tt78522</td>\n",
       "      <td>blood glacier</td>\n",
       "      <td>Scientists working in the Austrian Alps discov...</td>\n",
       "      <td>scifi</td>\n",
       "    </tr>\n",
       "    <tr>\n",
       "      <th>4</th>\n",
       "      <td>tt2206</td>\n",
       "      <td>apat na anino</td>\n",
       "      <td>Buy Day - Four Men Widely - Apart in Life - By...</td>\n",
       "      <td>action</td>\n",
       "    </tr>\n",
       "  </tbody>\n",
       "</table>\n",
       "</div>"
      ],
      "text/plain": [
       "   imdb_id                                              title  \\\n",
       "0  tt44978                                           super me   \n",
       "1  tt50185                                     entity project   \n",
       "2  tt34131  behavioral family therapy for serious psychiat...   \n",
       "3  tt78522                                      blood glacier   \n",
       "4   tt2206                                      apat na anino   \n",
       "\n",
       "                                            synopsis    genre  \n",
       "0  A young scriptwriter starts bringing valuable ...  fantasy  \n",
       "1  A director and her friends renting a haunted h...   horror  \n",
       "2  This is an educational video for families and ...   family  \n",
       "3  Scientists working in the Austrian Alps discov...    scifi  \n",
       "4  Buy Day - Four Men Widely - Apart in Life - By...   action  "
      ]
     },
     "execution_count": 11,
     "metadata": {},
     "output_type": "execute_result"
    }
   ],
   "source": [
    "train_df[\"title\"] = train_df[\"title\"].map(lambda x: x.lower())\n",
    "train_df.head()"
   ]
  },
  {
   "cell_type": "code",
   "execution_count": 12,
   "metadata": {},
   "outputs": [
    {
     "data": {
      "text/html": [
       "<div>\n",
       "<style scoped>\n",
       "    .dataframe tbody tr th:only-of-type {\n",
       "        vertical-align: middle;\n",
       "    }\n",
       "\n",
       "    .dataframe tbody tr th {\n",
       "        vertical-align: top;\n",
       "    }\n",
       "\n",
       "    .dataframe thead th {\n",
       "        text-align: right;\n",
       "    }\n",
       "</style>\n",
       "<table border=\"1\" class=\"dataframe\">\n",
       "  <thead>\n",
       "    <tr style=\"text-align: right;\">\n",
       "      <th></th>\n",
       "      <th>title</th>\n",
       "      <th>paths</th>\n",
       "      <th>imdb_id_x</th>\n",
       "      <th>plot_synopsis</th>\n",
       "      <th>tags</th>\n",
       "      <th>split</th>\n",
       "      <th>synopsis_source</th>\n",
       "      <th>imdb_id_y</th>\n",
       "      <th>synopsis</th>\n",
       "      <th>genre</th>\n",
       "    </tr>\n",
       "  </thead>\n",
       "  <tbody>\n",
       "    <tr>\n",
       "      <th>0</th>\n",
       "      <td>10 things i hate about you</td>\n",
       "      <td>data/resized_frames/10 Things I Hate About You...</td>\n",
       "      <td>tt0147800</td>\n",
       "      <td>Cameron James (Joseph Gordon-Levitt), the new ...</td>\n",
       "      <td>comedy, gothic, adult comedy, clever, romantic...</td>\n",
       "      <td>train</td>\n",
       "      <td>imdb</td>\n",
       "      <td>NaN</td>\n",
       "      <td>NaN</td>\n",
       "      <td>NaN</td>\n",
       "    </tr>\n",
       "    <tr>\n",
       "      <th>1</th>\n",
       "      <td>12 monkeys</td>\n",
       "      <td>data/resized_frames/12 Monkeys (1995)</td>\n",
       "      <td>tt3148266</td>\n",
       "      <td>A deadly virus released in 1996 wipes out almo...</td>\n",
       "      <td>murder</td>\n",
       "      <td>train</td>\n",
       "      <td>wikipedia</td>\n",
       "      <td>tt75933</td>\n",
       "      <td>In a future world devastated by disease, a con...</td>\n",
       "      <td>scifi</td>\n",
       "    </tr>\n",
       "    <tr>\n",
       "      <th>2</th>\n",
       "      <td>12 years a slave</td>\n",
       "      <td>data/resized_frames/12 Years a Slave (2013)</td>\n",
       "      <td>tt2024544</td>\n",
       "      <td>The movie opens with a group of slaves receivi...</td>\n",
       "      <td>dramatic, boring, historical</td>\n",
       "      <td>test</td>\n",
       "      <td>imdb</td>\n",
       "      <td>NaN</td>\n",
       "      <td>NaN</td>\n",
       "      <td>NaN</td>\n",
       "    </tr>\n",
       "    <tr>\n",
       "      <th>3</th>\n",
       "      <td>127 hours</td>\n",
       "      <td>data/resized_frames/127 Hours (2010)</td>\n",
       "      <td>tt1542344</td>\n",
       "      <td>Mountaineer and adventurer Aron Ralston begins...</td>\n",
       "      <td>dramatic, suspenseful, psychological, flashback</td>\n",
       "      <td>test</td>\n",
       "      <td>wikipedia</td>\n",
       "      <td>NaN</td>\n",
       "      <td>NaN</td>\n",
       "      <td>NaN</td>\n",
       "    </tr>\n",
       "    <tr>\n",
       "      <th>4</th>\n",
       "      <td>21 grams</td>\n",
       "      <td>data/resized_frames/21 Grams (2003)</td>\n",
       "      <td>tt0315733</td>\n",
       "      <td>The story is told in a non-linear manner. The ...</td>\n",
       "      <td>suspenseful, boring, murder, realism, depressi...</td>\n",
       "      <td>test</td>\n",
       "      <td>wikipedia</td>\n",
       "      <td>tt18010</td>\n",
       "      <td>A freak accident brings together a critically ...</td>\n",
       "      <td>crime</td>\n",
       "    </tr>\n",
       "  </tbody>\n",
       "</table>\n",
       "</div>"
      ],
      "text/plain": [
       "                        title  \\\n",
       "0  10 things i hate about you   \n",
       "1                  12 monkeys   \n",
       "2            12 years a slave   \n",
       "3                   127 hours   \n",
       "4                    21 grams   \n",
       "\n",
       "                                               paths  imdb_id_x  \\\n",
       "0  data/resized_frames/10 Things I Hate About You...  tt0147800   \n",
       "1              data/resized_frames/12 Monkeys (1995)  tt3148266   \n",
       "2        data/resized_frames/12 Years a Slave (2013)  tt2024544   \n",
       "3               data/resized_frames/127 Hours (2010)  tt1542344   \n",
       "4                data/resized_frames/21 Grams (2003)  tt0315733   \n",
       "\n",
       "                                       plot_synopsis  \\\n",
       "0  Cameron James (Joseph Gordon-Levitt), the new ...   \n",
       "1  A deadly virus released in 1996 wipes out almo...   \n",
       "2  The movie opens with a group of slaves receivi...   \n",
       "3  Mountaineer and adventurer Aron Ralston begins...   \n",
       "4  The story is told in a non-linear manner. The ...   \n",
       "\n",
       "                                                tags  split synopsis_source  \\\n",
       "0  comedy, gothic, adult comedy, clever, romantic...  train            imdb   \n",
       "1                                             murder  train       wikipedia   \n",
       "2                       dramatic, boring, historical   test            imdb   \n",
       "3    dramatic, suspenseful, psychological, flashback   test       wikipedia   \n",
       "4  suspenseful, boring, murder, realism, depressi...   test       wikipedia   \n",
       "\n",
       "  imdb_id_y                                           synopsis  genre  \n",
       "0       NaN                                                NaN    NaN  \n",
       "1   tt75933  In a future world devastated by disease, a con...  scifi  \n",
       "2       NaN                                                NaN    NaN  \n",
       "3       NaN                                                NaN    NaN  \n",
       "4   tt18010  A freak accident brings together a critically ...  crime  "
      ]
     },
     "execution_count": 12,
     "metadata": {},
     "output_type": "execute_result"
    }
   ],
   "source": [
    "final_table_df = synopsis_screengrabs_df.merge(train_df, how=\"left\", on=\"title\")\n",
    "final_table_df.head()"
   ]
  },
  {
   "cell_type": "code",
   "execution_count": 13,
   "metadata": {},
   "outputs": [],
   "source": [
    "final_table_df.drop(columns=[\"synopsis\", \"imdb_id_y\", \"tags\", \"split\", \"synopsis_source\"], inplace=True)"
   ]
  },
  {
   "cell_type": "code",
   "execution_count": 14,
   "metadata": {},
   "outputs": [],
   "source": [
    "final_table_df.rename(columns={\"imdb_id_x\": \"imdb_id\"}, inplace=True)"
   ]
  },
  {
   "cell_type": "code",
   "execution_count": 15,
   "metadata": {},
   "outputs": [
    {
     "data": {
      "text/html": [
       "<div>\n",
       "<style scoped>\n",
       "    .dataframe tbody tr th:only-of-type {\n",
       "        vertical-align: middle;\n",
       "    }\n",
       "\n",
       "    .dataframe tbody tr th {\n",
       "        vertical-align: top;\n",
       "    }\n",
       "\n",
       "    .dataframe thead th {\n",
       "        text-align: right;\n",
       "    }\n",
       "</style>\n",
       "<table border=\"1\" class=\"dataframe\">\n",
       "  <thead>\n",
       "    <tr style=\"text-align: right;\">\n",
       "      <th></th>\n",
       "      <th>title</th>\n",
       "      <th>paths</th>\n",
       "      <th>imdb_id</th>\n",
       "      <th>plot_synopsis</th>\n",
       "      <th>genre</th>\n",
       "    </tr>\n",
       "  </thead>\n",
       "  <tbody>\n",
       "    <tr>\n",
       "      <th>0</th>\n",
       "      <td>10 things i hate about you</td>\n",
       "      <td>data/resized_frames/10 Things I Hate About You...</td>\n",
       "      <td>tt0147800</td>\n",
       "      <td>Cameron James (Joseph Gordon-Levitt), the new ...</td>\n",
       "      <td>NaN</td>\n",
       "    </tr>\n",
       "    <tr>\n",
       "      <th>1</th>\n",
       "      <td>12 monkeys</td>\n",
       "      <td>data/resized_frames/12 Monkeys (1995)</td>\n",
       "      <td>tt3148266</td>\n",
       "      <td>A deadly virus released in 1996 wipes out almo...</td>\n",
       "      <td>scifi</td>\n",
       "    </tr>\n",
       "    <tr>\n",
       "      <th>2</th>\n",
       "      <td>12 years a slave</td>\n",
       "      <td>data/resized_frames/12 Years a Slave (2013)</td>\n",
       "      <td>tt2024544</td>\n",
       "      <td>The movie opens with a group of slaves receivi...</td>\n",
       "      <td>NaN</td>\n",
       "    </tr>\n",
       "    <tr>\n",
       "      <th>3</th>\n",
       "      <td>127 hours</td>\n",
       "      <td>data/resized_frames/127 Hours (2010)</td>\n",
       "      <td>tt1542344</td>\n",
       "      <td>Mountaineer and adventurer Aron Ralston begins...</td>\n",
       "      <td>NaN</td>\n",
       "    </tr>\n",
       "    <tr>\n",
       "      <th>4</th>\n",
       "      <td>21 grams</td>\n",
       "      <td>data/resized_frames/21 Grams (2003)</td>\n",
       "      <td>tt0315733</td>\n",
       "      <td>The story is told in a non-linear manner. The ...</td>\n",
       "      <td>crime</td>\n",
       "    </tr>\n",
       "  </tbody>\n",
       "</table>\n",
       "</div>"
      ],
      "text/plain": [
       "                        title  \\\n",
       "0  10 things i hate about you   \n",
       "1                  12 monkeys   \n",
       "2            12 years a slave   \n",
       "3                   127 hours   \n",
       "4                    21 grams   \n",
       "\n",
       "                                               paths    imdb_id  \\\n",
       "0  data/resized_frames/10 Things I Hate About You...  tt0147800   \n",
       "1              data/resized_frames/12 Monkeys (1995)  tt3148266   \n",
       "2        data/resized_frames/12 Years a Slave (2013)  tt2024544   \n",
       "3               data/resized_frames/127 Hours (2010)  tt1542344   \n",
       "4                data/resized_frames/21 Grams (2003)  tt0315733   \n",
       "\n",
       "                                       plot_synopsis  genre  \n",
       "0  Cameron James (Joseph Gordon-Levitt), the new ...    NaN  \n",
       "1  A deadly virus released in 1996 wipes out almo...  scifi  \n",
       "2  The movie opens with a group of slaves receivi...    NaN  \n",
       "3  Mountaineer and adventurer Aron Ralston begins...    NaN  \n",
       "4  The story is told in a non-linear manner. The ...  crime  "
      ]
     },
     "execution_count": 15,
     "metadata": {},
     "output_type": "execute_result"
    }
   ],
   "source": [
    "final_table_df.head()"
   ]
  },
  {
   "cell_type": "code",
   "execution_count": 16,
   "metadata": {},
   "outputs": [
    {
     "data": {
      "text/plain": [
       "title            0.000000\n",
       "paths            0.000000\n",
       "imdb_id          0.000000\n",
       "plot_synopsis    0.000000\n",
       "genre            0.401408\n",
       "dtype: float64"
      ]
     },
     "execution_count": 16,
     "metadata": {},
     "output_type": "execute_result"
    }
   ],
   "source": [
    "final_table_df.isna().sum() / len(final_table_df)"
   ]
  },
  {
   "cell_type": "code",
   "execution_count": 17,
   "metadata": {},
   "outputs": [
    {
     "data": {
      "text/plain": [
       "(710, 5)"
      ]
     },
     "execution_count": 17,
     "metadata": {},
     "output_type": "execute_result"
    }
   ],
   "source": [
    "final_table_df.shape"
   ]
  },
  {
   "cell_type": "code",
   "execution_count": 18,
   "metadata": {},
   "outputs": [],
   "source": [
    "final_table_df.dropna(inplace=True)"
   ]
  },
  {
   "cell_type": "code",
   "execution_count": 19,
   "metadata": {},
   "outputs": [],
   "source": [
    "final_table_df.drop_duplicates(subset=[\"title\"], keep=\"first\", inplace=True)"
   ]
  },
  {
   "cell_type": "code",
   "execution_count": 20,
   "metadata": {},
   "outputs": [
    {
     "data": {
      "text/plain": [
       "(256, 5)"
      ]
     },
     "execution_count": 20,
     "metadata": {},
     "output_type": "execute_result"
    }
   ],
   "source": [
    "final_table_df.shape"
   ]
  },
  {
   "cell_type": "code",
   "execution_count": 21,
   "metadata": {},
   "outputs": [],
   "source": [
    "final_table_df.to_csv(\"../raw_data/genre_synopsis_screengrabs_table.csv\", index=False)"
   ]
  },
  {
   "cell_type": "markdown",
   "metadata": {},
   "source": [
    "## Adding Movie Posters"
   ]
  },
  {
   "cell_type": "code",
   "execution_count": 4,
   "metadata": {},
   "outputs": [],
   "source": [
    "posters_path = \"data/SampleMoviePosters/\""
   ]
  },
  {
   "cell_type": "code",
   "execution_count": 5,
   "metadata": {},
   "outputs": [
    {
     "data": {
      "text/html": [
       "<div>\n",
       "<style scoped>\n",
       "    .dataframe tbody tr th:only-of-type {\n",
       "        vertical-align: middle;\n",
       "    }\n",
       "\n",
       "    .dataframe tbody tr th {\n",
       "        vertical-align: top;\n",
       "    }\n",
       "\n",
       "    .dataframe thead th {\n",
       "        text-align: right;\n",
       "    }\n",
       "</style>\n",
       "<table border=\"1\" class=\"dataframe\">\n",
       "  <thead>\n",
       "    <tr style=\"text-align: right;\">\n",
       "      <th></th>\n",
       "      <th>imdbId</th>\n",
       "      <th>Imdb Link</th>\n",
       "      <th>Title</th>\n",
       "      <th>IMDB Score</th>\n",
       "      <th>Genre</th>\n",
       "      <th>Poster</th>\n",
       "    </tr>\n",
       "  </thead>\n",
       "  <tbody>\n",
       "    <tr>\n",
       "      <th>0</th>\n",
       "      <td>114709</td>\n",
       "      <td>http://www.imdb.com/title/tt114709</td>\n",
       "      <td>Toy Story (1995)</td>\n",
       "      <td>8.3</td>\n",
       "      <td>Animation|Adventure|Comedy</td>\n",
       "      <td>https://images-na.ssl-images-amazon.com/images...</td>\n",
       "    </tr>\n",
       "    <tr>\n",
       "      <th>1</th>\n",
       "      <td>113497</td>\n",
       "      <td>http://www.imdb.com/title/tt113497</td>\n",
       "      <td>Jumanji (1995)</td>\n",
       "      <td>6.9</td>\n",
       "      <td>Action|Adventure|Family</td>\n",
       "      <td>https://images-na.ssl-images-amazon.com/images...</td>\n",
       "    </tr>\n",
       "    <tr>\n",
       "      <th>2</th>\n",
       "      <td>113228</td>\n",
       "      <td>http://www.imdb.com/title/tt113228</td>\n",
       "      <td>Grumpier Old Men (1995)</td>\n",
       "      <td>6.6</td>\n",
       "      <td>Comedy|Romance</td>\n",
       "      <td>https://images-na.ssl-images-amazon.com/images...</td>\n",
       "    </tr>\n",
       "    <tr>\n",
       "      <th>3</th>\n",
       "      <td>114885</td>\n",
       "      <td>http://www.imdb.com/title/tt114885</td>\n",
       "      <td>Waiting to Exhale (1995)</td>\n",
       "      <td>5.7</td>\n",
       "      <td>Comedy|Drama|Romance</td>\n",
       "      <td>https://images-na.ssl-images-amazon.com/images...</td>\n",
       "    </tr>\n",
       "    <tr>\n",
       "      <th>4</th>\n",
       "      <td>113041</td>\n",
       "      <td>http://www.imdb.com/title/tt113041</td>\n",
       "      <td>Father of the Bride Part II (1995)</td>\n",
       "      <td>5.9</td>\n",
       "      <td>Comedy|Family|Romance</td>\n",
       "      <td>https://images-na.ssl-images-amazon.com/images...</td>\n",
       "    </tr>\n",
       "  </tbody>\n",
       "</table>\n",
       "</div>"
      ],
      "text/plain": [
       "   imdbId                           Imdb Link  \\\n",
       "0  114709  http://www.imdb.com/title/tt114709   \n",
       "1  113497  http://www.imdb.com/title/tt113497   \n",
       "2  113228  http://www.imdb.com/title/tt113228   \n",
       "3  114885  http://www.imdb.com/title/tt114885   \n",
       "4  113041  http://www.imdb.com/title/tt113041   \n",
       "\n",
       "                                Title  IMDB Score                       Genre  \\\n",
       "0                    Toy Story (1995)         8.3  Animation|Adventure|Comedy   \n",
       "1                      Jumanji (1995)         6.9     Action|Adventure|Family   \n",
       "2             Grumpier Old Men (1995)         6.6              Comedy|Romance   \n",
       "3            Waiting to Exhale (1995)         5.7        Comedy|Drama|Romance   \n",
       "4  Father of the Bride Part II (1995)         5.9       Comedy|Family|Romance   \n",
       "\n",
       "                                              Poster  \n",
       "0  https://images-na.ssl-images-amazon.com/images...  \n",
       "1  https://images-na.ssl-images-amazon.com/images...  \n",
       "2  https://images-na.ssl-images-amazon.com/images...  \n",
       "3  https://images-na.ssl-images-amazon.com/images...  \n",
       "4  https://images-na.ssl-images-amazon.com/images...  "
      ]
     },
     "execution_count": 5,
     "metadata": {},
     "output_type": "execute_result"
    }
   ],
   "source": [
    "# Load from google storage\n",
    "# Get blobs within the genres folder\n",
    "blobs = bucket.list_blobs(prefix=posters_path)\n",
    "\n",
    "for blob in blobs:\n",
    "    if os.path.basename(blob.name) == \"MovieGenre.csv\":\n",
    "        # Load contents of blobs as text\n",
    "        download = blob.download_as_text(encoding='latin1')\n",
    "\n",
    "        # Convert the text content to a StringIO object\n",
    "        csv_data = StringIO(download)\n",
    "\n",
    "        posters_df = pd.read_csv(csv_data)\n",
    "\n",
    "posters_df.head()"
   ]
  },
  {
   "cell_type": "code",
   "execution_count": 6,
   "metadata": {},
   "outputs": [
    {
     "data": {
      "text/html": [
       "<div>\n",
       "<style scoped>\n",
       "    .dataframe tbody tr th:only-of-type {\n",
       "        vertical-align: middle;\n",
       "    }\n",
       "\n",
       "    .dataframe tbody tr th {\n",
       "        vertical-align: top;\n",
       "    }\n",
       "\n",
       "    .dataframe thead th {\n",
       "        text-align: right;\n",
       "    }\n",
       "</style>\n",
       "<table border=\"1\" class=\"dataframe\">\n",
       "  <thead>\n",
       "    <tr style=\"text-align: right;\">\n",
       "      <th></th>\n",
       "      <th>imdb_id</th>\n",
       "      <th>title</th>\n",
       "      <th>rating</th>\n",
       "      <th>poster_link</th>\n",
       "    </tr>\n",
       "  </thead>\n",
       "  <tbody>\n",
       "    <tr>\n",
       "      <th>0</th>\n",
       "      <td>114709</td>\n",
       "      <td>Toy Story (1995)</td>\n",
       "      <td>8.3</td>\n",
       "      <td>https://images-na.ssl-images-amazon.com/images...</td>\n",
       "    </tr>\n",
       "    <tr>\n",
       "      <th>1</th>\n",
       "      <td>113497</td>\n",
       "      <td>Jumanji (1995)</td>\n",
       "      <td>6.9</td>\n",
       "      <td>https://images-na.ssl-images-amazon.com/images...</td>\n",
       "    </tr>\n",
       "    <tr>\n",
       "      <th>2</th>\n",
       "      <td>113228</td>\n",
       "      <td>Grumpier Old Men (1995)</td>\n",
       "      <td>6.6</td>\n",
       "      <td>https://images-na.ssl-images-amazon.com/images...</td>\n",
       "    </tr>\n",
       "    <tr>\n",
       "      <th>3</th>\n",
       "      <td>114885</td>\n",
       "      <td>Waiting to Exhale (1995)</td>\n",
       "      <td>5.7</td>\n",
       "      <td>https://images-na.ssl-images-amazon.com/images...</td>\n",
       "    </tr>\n",
       "    <tr>\n",
       "      <th>4</th>\n",
       "      <td>113041</td>\n",
       "      <td>Father of the Bride Part II (1995)</td>\n",
       "      <td>5.9</td>\n",
       "      <td>https://images-na.ssl-images-amazon.com/images...</td>\n",
       "    </tr>\n",
       "  </tbody>\n",
       "</table>\n",
       "</div>"
      ],
      "text/plain": [
       "   imdb_id                               title  rating  \\\n",
       "0   114709                    Toy Story (1995)     8.3   \n",
       "1   113497                      Jumanji (1995)     6.9   \n",
       "2   113228             Grumpier Old Men (1995)     6.6   \n",
       "3   114885            Waiting to Exhale (1995)     5.7   \n",
       "4   113041  Father of the Bride Part II (1995)     5.9   \n",
       "\n",
       "                                         poster_link  \n",
       "0  https://images-na.ssl-images-amazon.com/images...  \n",
       "1  https://images-na.ssl-images-amazon.com/images...  \n",
       "2  https://images-na.ssl-images-amazon.com/images...  \n",
       "3  https://images-na.ssl-images-amazon.com/images...  \n",
       "4  https://images-na.ssl-images-amazon.com/images...  "
      ]
     },
     "execution_count": 6,
     "metadata": {},
     "output_type": "execute_result"
    }
   ],
   "source": [
    "posters_df.drop(columns=[\"Imdb Link\", \"Genre\"], inplace=True)\n",
    "posters_df.rename(columns={\"imdbId\": \"imdb_id\", \"Imdb Link\": \"link\", \"IMDB Score\": \"rating\",\n",
    "                           \"Poster\": \"poster_link\", \"Title\": \"title\"}, inplace=True)\n",
    "posters_df.head()"
   ]
  },
  {
   "cell_type": "code",
   "execution_count": 7,
   "metadata": {},
   "outputs": [
    {
     "data": {
      "text/html": [
       "<div>\n",
       "<style scoped>\n",
       "    .dataframe tbody tr th:only-of-type {\n",
       "        vertical-align: middle;\n",
       "    }\n",
       "\n",
       "    .dataframe tbody tr th {\n",
       "        vertical-align: top;\n",
       "    }\n",
       "\n",
       "    .dataframe thead th {\n",
       "        text-align: right;\n",
       "    }\n",
       "</style>\n",
       "<table border=\"1\" class=\"dataframe\">\n",
       "  <thead>\n",
       "    <tr style=\"text-align: right;\">\n",
       "      <th></th>\n",
       "      <th>imdb_id</th>\n",
       "      <th>title</th>\n",
       "      <th>rating</th>\n",
       "      <th>poster_link</th>\n",
       "    </tr>\n",
       "  </thead>\n",
       "  <tbody>\n",
       "    <tr>\n",
       "      <th>0</th>\n",
       "      <td>tt114709</td>\n",
       "      <td>Toy Story (1995)</td>\n",
       "      <td>8.3</td>\n",
       "      <td>https://images-na.ssl-images-amazon.com/images...</td>\n",
       "    </tr>\n",
       "    <tr>\n",
       "      <th>1</th>\n",
       "      <td>tt113497</td>\n",
       "      <td>Jumanji (1995)</td>\n",
       "      <td>6.9</td>\n",
       "      <td>https://images-na.ssl-images-amazon.com/images...</td>\n",
       "    </tr>\n",
       "    <tr>\n",
       "      <th>2</th>\n",
       "      <td>tt113228</td>\n",
       "      <td>Grumpier Old Men (1995)</td>\n",
       "      <td>6.6</td>\n",
       "      <td>https://images-na.ssl-images-amazon.com/images...</td>\n",
       "    </tr>\n",
       "    <tr>\n",
       "      <th>3</th>\n",
       "      <td>tt114885</td>\n",
       "      <td>Waiting to Exhale (1995)</td>\n",
       "      <td>5.7</td>\n",
       "      <td>https://images-na.ssl-images-amazon.com/images...</td>\n",
       "    </tr>\n",
       "    <tr>\n",
       "      <th>4</th>\n",
       "      <td>tt113041</td>\n",
       "      <td>Father of the Bride Part II (1995)</td>\n",
       "      <td>5.9</td>\n",
       "      <td>https://images-na.ssl-images-amazon.com/images...</td>\n",
       "    </tr>\n",
       "  </tbody>\n",
       "</table>\n",
       "</div>"
      ],
      "text/plain": [
       "    imdb_id                               title  rating  \\\n",
       "0  tt114709                    Toy Story (1995)     8.3   \n",
       "1  tt113497                      Jumanji (1995)     6.9   \n",
       "2  tt113228             Grumpier Old Men (1995)     6.6   \n",
       "3  tt114885            Waiting to Exhale (1995)     5.7   \n",
       "4  tt113041  Father of the Bride Part II (1995)     5.9   \n",
       "\n",
       "                                         poster_link  \n",
       "0  https://images-na.ssl-images-amazon.com/images...  \n",
       "1  https://images-na.ssl-images-amazon.com/images...  \n",
       "2  https://images-na.ssl-images-amazon.com/images...  \n",
       "3  https://images-na.ssl-images-amazon.com/images...  \n",
       "4  https://images-na.ssl-images-amazon.com/images...  "
      ]
     },
     "execution_count": 7,
     "metadata": {},
     "output_type": "execute_result"
    }
   ],
   "source": [
    "posters_df[\"imdb_id\"] = posters_df[\"imdb_id\"].map(lambda x: \"tt\"+str(x))\n",
    "posters_df.head()"
   ]
  },
  {
   "cell_type": "code",
   "execution_count": 8,
   "metadata": {},
   "outputs": [
    {
     "data": {
      "text/html": [
       "<div>\n",
       "<style scoped>\n",
       "    .dataframe tbody tr th:only-of-type {\n",
       "        vertical-align: middle;\n",
       "    }\n",
       "\n",
       "    .dataframe tbody tr th {\n",
       "        vertical-align: top;\n",
       "    }\n",
       "\n",
       "    .dataframe thead th {\n",
       "        text-align: right;\n",
       "    }\n",
       "</style>\n",
       "<table border=\"1\" class=\"dataframe\">\n",
       "  <thead>\n",
       "    <tr style=\"text-align: right;\">\n",
       "      <th></th>\n",
       "      <th>imdb_id</th>\n",
       "      <th>title</th>\n",
       "      <th>rating</th>\n",
       "      <th>poster_link</th>\n",
       "    </tr>\n",
       "  </thead>\n",
       "  <tbody>\n",
       "    <tr>\n",
       "      <th>0</th>\n",
       "      <td>tt114709</td>\n",
       "      <td>toy story</td>\n",
       "      <td>8.3</td>\n",
       "      <td>https://images-na.ssl-images-amazon.com/images...</td>\n",
       "    </tr>\n",
       "    <tr>\n",
       "      <th>1</th>\n",
       "      <td>tt113497</td>\n",
       "      <td>jumanji</td>\n",
       "      <td>6.9</td>\n",
       "      <td>https://images-na.ssl-images-amazon.com/images...</td>\n",
       "    </tr>\n",
       "    <tr>\n",
       "      <th>2</th>\n",
       "      <td>tt113228</td>\n",
       "      <td>grumpier old men</td>\n",
       "      <td>6.6</td>\n",
       "      <td>https://images-na.ssl-images-amazon.com/images...</td>\n",
       "    </tr>\n",
       "    <tr>\n",
       "      <th>3</th>\n",
       "      <td>tt114885</td>\n",
       "      <td>waiting to exhale</td>\n",
       "      <td>5.7</td>\n",
       "      <td>https://images-na.ssl-images-amazon.com/images...</td>\n",
       "    </tr>\n",
       "    <tr>\n",
       "      <th>4</th>\n",
       "      <td>tt113041</td>\n",
       "      <td>father of the bride part ii</td>\n",
       "      <td>5.9</td>\n",
       "      <td>https://images-na.ssl-images-amazon.com/images...</td>\n",
       "    </tr>\n",
       "  </tbody>\n",
       "</table>\n",
       "</div>"
      ],
      "text/plain": [
       "    imdb_id                        title  rating  \\\n",
       "0  tt114709                    toy story     8.3   \n",
       "1  tt113497                      jumanji     6.9   \n",
       "2  tt113228             grumpier old men     6.6   \n",
       "3  tt114885            waiting to exhale     5.7   \n",
       "4  tt113041  father of the bride part ii     5.9   \n",
       "\n",
       "                                         poster_link  \n",
       "0  https://images-na.ssl-images-amazon.com/images...  \n",
       "1  https://images-na.ssl-images-amazon.com/images...  \n",
       "2  https://images-na.ssl-images-amazon.com/images...  \n",
       "3  https://images-na.ssl-images-amazon.com/images...  \n",
       "4  https://images-na.ssl-images-amazon.com/images...  "
      ]
     },
     "execution_count": 8,
     "metadata": {},
     "output_type": "execute_result"
    }
   ],
   "source": [
    "posters_df[\"title\"] = posters_df[\"title\"].map(lambda x: re.sub(r\"\\s*\\(\\d+\\)\", \"\", x).lower())\n",
    "posters_df.head()"
   ]
  },
  {
   "cell_type": "code",
   "execution_count": 9,
   "metadata": {},
   "outputs": [],
   "source": [
    "# Merging\n",
    "genre_synopsis_screengrabs_table_df = pd.read_csv(\"../raw_data/genre_synopsis_screengrabs_table.csv\")"
   ]
  },
  {
   "cell_type": "code",
   "execution_count": 12,
   "metadata": {},
   "outputs": [
    {
     "name": "stdout",
     "output_type": "stream",
     "text": [
      "(343, 8)\n"
     ]
    },
    {
     "data": {
      "text/html": [
       "<div>\n",
       "<style scoped>\n",
       "    .dataframe tbody tr th:only-of-type {\n",
       "        vertical-align: middle;\n",
       "    }\n",
       "\n",
       "    .dataframe tbody tr th {\n",
       "        vertical-align: top;\n",
       "    }\n",
       "\n",
       "    .dataframe thead th {\n",
       "        text-align: right;\n",
       "    }\n",
       "</style>\n",
       "<table border=\"1\" class=\"dataframe\">\n",
       "  <thead>\n",
       "    <tr style=\"text-align: right;\">\n",
       "      <th></th>\n",
       "      <th>title</th>\n",
       "      <th>paths</th>\n",
       "      <th>imdb_id_x</th>\n",
       "      <th>plot_synopsis</th>\n",
       "      <th>genre</th>\n",
       "      <th>imdb_id_y</th>\n",
       "      <th>rating</th>\n",
       "      <th>poster_link</th>\n",
       "    </tr>\n",
       "  </thead>\n",
       "  <tbody>\n",
       "    <tr>\n",
       "      <th>0</th>\n",
       "      <td>12 monkeys</td>\n",
       "      <td>data/resized_frames/12 Monkeys (1995)</td>\n",
       "      <td>tt3148266</td>\n",
       "      <td>A deadly virus released in 1996 wipes out almo...</td>\n",
       "      <td>scifi</td>\n",
       "      <td>NaN</td>\n",
       "      <td>NaN</td>\n",
       "      <td>NaN</td>\n",
       "    </tr>\n",
       "    <tr>\n",
       "      <th>1</th>\n",
       "      <td>21 grams</td>\n",
       "      <td>data/resized_frames/21 Grams (2003)</td>\n",
       "      <td>tt0315733</td>\n",
       "      <td>The story is told in a non-linear manner. The ...</td>\n",
       "      <td>crime</td>\n",
       "      <td>tt315733</td>\n",
       "      <td>7.7</td>\n",
       "      <td>https://images-na.ssl-images-amazon.com/images...</td>\n",
       "    </tr>\n",
       "    <tr>\n",
       "      <th>2</th>\n",
       "      <td>a few good men</td>\n",
       "      <td>data/resized_frames/A Few Good Men (1992)</td>\n",
       "      <td>tt0104257</td>\n",
       "      <td>Late one evening, at the U.S. Naval Base in Gu...</td>\n",
       "      <td>thriller</td>\n",
       "      <td>tt104257</td>\n",
       "      <td>7.6</td>\n",
       "      <td>https://images-na.ssl-images-amazon.com/images...</td>\n",
       "    </tr>\n",
       "    <tr>\n",
       "      <th>3</th>\n",
       "      <td>a history of violence</td>\n",
       "      <td>data/resized_frames/A History of Violence (2005)</td>\n",
       "      <td>tt0399146</td>\n",
       "      <td>Leland Jones and William 'Billy' Orser (Stephe...</td>\n",
       "      <td>thriller</td>\n",
       "      <td>tt399146</td>\n",
       "      <td>7.5</td>\n",
       "      <td>https://images-na.ssl-images-amazon.com/images...</td>\n",
       "    </tr>\n",
       "    <tr>\n",
       "      <th>4</th>\n",
       "      <td>a scanner darkly</td>\n",
       "      <td>data/resized_frames/A Scanner Darkly (2006)</td>\n",
       "      <td>tt0405296</td>\n",
       "      <td>In the future \"seven years from now,\" America ...</td>\n",
       "      <td>scifi</td>\n",
       "      <td>tt405296</td>\n",
       "      <td>7.1</td>\n",
       "      <td>https://images-na.ssl-images-amazon.com/images...</td>\n",
       "    </tr>\n",
       "  </tbody>\n",
       "</table>\n",
       "</div>"
      ],
      "text/plain": [
       "                   title                                             paths  \\\n",
       "0             12 monkeys             data/resized_frames/12 Monkeys (1995)   \n",
       "1               21 grams               data/resized_frames/21 Grams (2003)   \n",
       "2         a few good men         data/resized_frames/A Few Good Men (1992)   \n",
       "3  a history of violence  data/resized_frames/A History of Violence (2005)   \n",
       "4       a scanner darkly       data/resized_frames/A Scanner Darkly (2006)   \n",
       "\n",
       "   imdb_id_x                                      plot_synopsis     genre  \\\n",
       "0  tt3148266  A deadly virus released in 1996 wipes out almo...     scifi   \n",
       "1  tt0315733  The story is told in a non-linear manner. The ...     crime   \n",
       "2  tt0104257  Late one evening, at the U.S. Naval Base in Gu...  thriller   \n",
       "3  tt0399146  Leland Jones and William 'Billy' Orser (Stephe...  thriller   \n",
       "4  tt0405296  In the future \"seven years from now,\" America ...     scifi   \n",
       "\n",
       "  imdb_id_y  rating                                        poster_link  \n",
       "0       NaN     NaN                                                NaN  \n",
       "1  tt315733     7.7  https://images-na.ssl-images-amazon.com/images...  \n",
       "2  tt104257     7.6  https://images-na.ssl-images-amazon.com/images...  \n",
       "3  tt399146     7.5  https://images-na.ssl-images-amazon.com/images...  \n",
       "4  tt405296     7.1  https://images-na.ssl-images-amazon.com/images...  "
      ]
     },
     "execution_count": 12,
     "metadata": {},
     "output_type": "execute_result"
    }
   ],
   "source": [
    "full_table_df = genre_synopsis_screengrabs_table_df.merge(posters_df, on=\"title\", how=\"left\")\n",
    "print(full_table_df.shape)\n",
    "full_table_df.head()"
   ]
  },
  {
   "cell_type": "code",
   "execution_count": 13,
   "metadata": {},
   "outputs": [
    {
     "data": {
      "text/plain": [
       "title            0.000000\n",
       "paths            0.000000\n",
       "imdb_id_x        0.000000\n",
       "plot_synopsis    0.000000\n",
       "genre            0.000000\n",
       "imdb_id_y        0.020408\n",
       "rating           0.020408\n",
       "poster_link      0.020408\n",
       "dtype: float64"
      ]
     },
     "execution_count": 13,
     "metadata": {},
     "output_type": "execute_result"
    }
   ],
   "source": [
    "full_table_df.isna().sum() / len(full_table_df)"
   ]
  },
  {
   "cell_type": "code",
   "execution_count": 16,
   "metadata": {},
   "outputs": [
    {
     "data": {
      "text/html": [
       "<div>\n",
       "<style scoped>\n",
       "    .dataframe tbody tr th:only-of-type {\n",
       "        vertical-align: middle;\n",
       "    }\n",
       "\n",
       "    .dataframe tbody tr th {\n",
       "        vertical-align: top;\n",
       "    }\n",
       "\n",
       "    .dataframe thead th {\n",
       "        text-align: right;\n",
       "    }\n",
       "</style>\n",
       "<table border=\"1\" class=\"dataframe\">\n",
       "  <thead>\n",
       "    <tr style=\"text-align: right;\">\n",
       "      <th></th>\n",
       "      <th>title</th>\n",
       "      <th>paths</th>\n",
       "      <th>imdb_id_x</th>\n",
       "      <th>plot_synopsis</th>\n",
       "      <th>genre</th>\n",
       "      <th>rating</th>\n",
       "      <th>poster_link</th>\n",
       "    </tr>\n",
       "  </thead>\n",
       "  <tbody>\n",
       "    <tr>\n",
       "      <th>1</th>\n",
       "      <td>21 grams</td>\n",
       "      <td>data/resized_frames/21 Grams (2003)</td>\n",
       "      <td>tt0315733</td>\n",
       "      <td>The story is told in a non-linear manner. The ...</td>\n",
       "      <td>crime</td>\n",
       "      <td>7.7</td>\n",
       "      <td>https://images-na.ssl-images-amazon.com/images...</td>\n",
       "    </tr>\n",
       "    <tr>\n",
       "      <th>2</th>\n",
       "      <td>a few good men</td>\n",
       "      <td>data/resized_frames/A Few Good Men (1992)</td>\n",
       "      <td>tt0104257</td>\n",
       "      <td>Late one evening, at the U.S. Naval Base in Gu...</td>\n",
       "      <td>thriller</td>\n",
       "      <td>7.6</td>\n",
       "      <td>https://images-na.ssl-images-amazon.com/images...</td>\n",
       "    </tr>\n",
       "    <tr>\n",
       "      <th>3</th>\n",
       "      <td>a history of violence</td>\n",
       "      <td>data/resized_frames/A History of Violence (2005)</td>\n",
       "      <td>tt0399146</td>\n",
       "      <td>Leland Jones and William 'Billy' Orser (Stephe...</td>\n",
       "      <td>thriller</td>\n",
       "      <td>7.5</td>\n",
       "      <td>https://images-na.ssl-images-amazon.com/images...</td>\n",
       "    </tr>\n",
       "    <tr>\n",
       "      <th>4</th>\n",
       "      <td>a scanner darkly</td>\n",
       "      <td>data/resized_frames/A Scanner Darkly (2006)</td>\n",
       "      <td>tt0405296</td>\n",
       "      <td>In the future \"seven years from now,\" America ...</td>\n",
       "      <td>scifi</td>\n",
       "      <td>7.1</td>\n",
       "      <td>https://images-na.ssl-images-amazon.com/images...</td>\n",
       "    </tr>\n",
       "    <tr>\n",
       "      <th>5</th>\n",
       "      <td>a single man</td>\n",
       "      <td>data/resized_frames/A Single Man (2009)</td>\n",
       "      <td>tt1315981</td>\n",
       "      <td>George Falconer (Colin Firth) approaches a car...</td>\n",
       "      <td>crime</td>\n",
       "      <td>7.6</td>\n",
       "      <td>https://images-na.ssl-images-amazon.com/images...</td>\n",
       "    </tr>\n",
       "  </tbody>\n",
       "</table>\n",
       "</div>"
      ],
      "text/plain": [
       "                   title                                             paths  \\\n",
       "1               21 grams               data/resized_frames/21 Grams (2003)   \n",
       "2         a few good men         data/resized_frames/A Few Good Men (1992)   \n",
       "3  a history of violence  data/resized_frames/A History of Violence (2005)   \n",
       "4       a scanner darkly       data/resized_frames/A Scanner Darkly (2006)   \n",
       "5           a single man           data/resized_frames/A Single Man (2009)   \n",
       "\n",
       "   imdb_id_x                                      plot_synopsis     genre  \\\n",
       "1  tt0315733  The story is told in a non-linear manner. The ...     crime   \n",
       "2  tt0104257  Late one evening, at the U.S. Naval Base in Gu...  thriller   \n",
       "3  tt0399146  Leland Jones and William 'Billy' Orser (Stephe...  thriller   \n",
       "4  tt0405296  In the future \"seven years from now,\" America ...     scifi   \n",
       "5  tt1315981  George Falconer (Colin Firth) approaches a car...     crime   \n",
       "\n",
       "   rating                                        poster_link  \n",
       "1     7.7  https://images-na.ssl-images-amazon.com/images...  \n",
       "2     7.6  https://images-na.ssl-images-amazon.com/images...  \n",
       "3     7.5  https://images-na.ssl-images-amazon.com/images...  \n",
       "4     7.1  https://images-na.ssl-images-amazon.com/images...  \n",
       "5     7.6  https://images-na.ssl-images-amazon.com/images...  "
      ]
     },
     "execution_count": 16,
     "metadata": {},
     "output_type": "execute_result"
    }
   ],
   "source": [
    "full_table_df.drop(columns=[\"imdb_id_y\"], inplace=True)\n",
    "full_table_df.dropna(subset=[\"poster_link\"], inplace=True)\n",
    "full_table_df.head()"
   ]
  },
  {
   "cell_type": "code",
   "execution_count": 21,
   "metadata": {},
   "outputs": [],
   "source": [
    "full_table_df.rename(columns={\"imdb_id_x\": \"imdb_id\"}, inplace=True)"
   ]
  },
  {
   "cell_type": "code",
   "execution_count": 17,
   "metadata": {},
   "outputs": [
    {
     "data": {
      "text/plain": [
       "7"
      ]
     },
     "execution_count": 17,
     "metadata": {},
     "output_type": "execute_result"
    }
   ],
   "source": [
    "# Do final checks\n",
    "full_table_df.duplicated().sum()"
   ]
  },
  {
   "cell_type": "code",
   "execution_count": 18,
   "metadata": {},
   "outputs": [],
   "source": [
    "full_table_df.drop_duplicates(inplace=True)"
   ]
  },
  {
   "cell_type": "code",
   "execution_count": 19,
   "metadata": {},
   "outputs": [
    {
     "data": {
      "text/plain": [
       "title            0.0\n",
       "paths            0.0\n",
       "imdb_id_x        0.0\n",
       "plot_synopsis    0.0\n",
       "genre            0.0\n",
       "rating           0.0\n",
       "poster_link      0.0\n",
       "dtype: float64"
      ]
     },
     "execution_count": 19,
     "metadata": {},
     "output_type": "execute_result"
    }
   ],
   "source": [
    "full_table_df.isna().sum() / len(full_table_df)"
   ]
  },
  {
   "cell_type": "code",
   "execution_count": 23,
   "metadata": {},
   "outputs": [
    {
     "data": {
      "text/plain": [
       "(329, 7)"
      ]
     },
     "execution_count": 23,
     "metadata": {},
     "output_type": "execute_result"
    }
   ],
   "source": [
    "full_table_df.shape"
   ]
  },
  {
   "cell_type": "code",
   "execution_count": 24,
   "metadata": {},
   "outputs": [],
   "source": [
    "full_table_df.to_csv(\"../raw_data/poster_genre_synopsis_screengrabs.csv\")"
   ]
  },
  {
   "cell_type": "code",
   "execution_count": null,
   "metadata": {},
   "outputs": [],
   "source": []
  }
 ],
 "metadata": {
  "kernelspec": {
   "display_name": "cine_ethics",
   "language": "python",
   "name": "python3"
  },
  "language_info": {
   "codemirror_mode": {
    "name": "ipython",
    "version": 3
   },
   "file_extension": ".py",
   "mimetype": "text/x-python",
   "name": "python",
   "nbconvert_exporter": "python",
   "pygments_lexer": "ipython3",
   "version": "3.10.6"
  }
 },
 "nbformat": 4,
 "nbformat_minor": 2
}
