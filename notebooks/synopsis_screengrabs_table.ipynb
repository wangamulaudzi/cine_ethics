{
 "cells": [
  {
   "cell_type": "markdown",
   "metadata": {},
   "source": [
    "# Final Data Table\n",
    "This notebook merges the two main tables of the cine_ethics dataset.\n",
    "\n",
    "## Import Statements"
   ]
  },
  {
   "cell_type": "code",
   "execution_count": 2,
   "metadata": {},
   "outputs": [],
   "source": [
    "from google.cloud import storage\n",
    "import os\n",
    "import pandas as pd\n",
    "import re"
   ]
  },
  {
   "cell_type": "markdown",
   "metadata": {},
   "source": [
    "## The Data\n",
    "\n",
    "### MPST Full Dataset"
   ]
  },
  {
   "cell_type": "code",
   "execution_count": 3,
   "metadata": {},
   "outputs": [
    {
     "data": {
      "text/html": [
       "<div>\n",
       "<style scoped>\n",
       "    .dataframe tbody tr th:only-of-type {\n",
       "        vertical-align: middle;\n",
       "    }\n",
       "\n",
       "    .dataframe tbody tr th {\n",
       "        vertical-align: top;\n",
       "    }\n",
       "\n",
       "    .dataframe thead th {\n",
       "        text-align: right;\n",
       "    }\n",
       "</style>\n",
       "<table border=\"1\" class=\"dataframe\">\n",
       "  <thead>\n",
       "    <tr style=\"text-align: right;\">\n",
       "      <th></th>\n",
       "      <th>imdb_id</th>\n",
       "      <th>title</th>\n",
       "      <th>plot_synopsis</th>\n",
       "      <th>tags</th>\n",
       "      <th>split</th>\n",
       "      <th>synopsis_source</th>\n",
       "    </tr>\n",
       "  </thead>\n",
       "  <tbody>\n",
       "    <tr>\n",
       "      <th>0</th>\n",
       "      <td>tt0057603</td>\n",
       "      <td>i tre volti della paura</td>\n",
       "      <td>Note: this synopsis is for the orginal Italian...</td>\n",
       "      <td>cult, horror, gothic, murder, atmospheric</td>\n",
       "      <td>train</td>\n",
       "      <td>imdb</td>\n",
       "    </tr>\n",
       "    <tr>\n",
       "      <th>1</th>\n",
       "      <td>tt1733125</td>\n",
       "      <td>dungeons &amp; dragons: the book of vile darkness</td>\n",
       "      <td>Two thousand years ago, Nhagruul the Foul, a s...</td>\n",
       "      <td>violence</td>\n",
       "      <td>train</td>\n",
       "      <td>imdb</td>\n",
       "    </tr>\n",
       "    <tr>\n",
       "      <th>2</th>\n",
       "      <td>tt0033045</td>\n",
       "      <td>the shop around the corner</td>\n",
       "      <td>Matuschek's, a gift store in Budapest, is the ...</td>\n",
       "      <td>romantic</td>\n",
       "      <td>test</td>\n",
       "      <td>imdb</td>\n",
       "    </tr>\n",
       "    <tr>\n",
       "      <th>3</th>\n",
       "      <td>tt0113862</td>\n",
       "      <td>mr. holland's opus</td>\n",
       "      <td>Glenn Holland, not a morning person by anyone'...</td>\n",
       "      <td>inspiring, romantic, stupid, feel-good</td>\n",
       "      <td>train</td>\n",
       "      <td>imdb</td>\n",
       "    </tr>\n",
       "    <tr>\n",
       "      <th>4</th>\n",
       "      <td>tt0086250</td>\n",
       "      <td>scarface</td>\n",
       "      <td>In May 1980, a Cuban man named Tony Montana (A...</td>\n",
       "      <td>cruelty, murder, dramatic, cult, violence, atm...</td>\n",
       "      <td>val</td>\n",
       "      <td>imdb</td>\n",
       "    </tr>\n",
       "  </tbody>\n",
       "</table>\n",
       "</div>"
      ],
      "text/plain": [
       "     imdb_id                                          title  \\\n",
       "0  tt0057603                        i tre volti della paura   \n",
       "1  tt1733125  dungeons & dragons: the book of vile darkness   \n",
       "2  tt0033045                     the shop around the corner   \n",
       "3  tt0113862                             mr. holland's opus   \n",
       "4  tt0086250                                       scarface   \n",
       "\n",
       "                                       plot_synopsis  \\\n",
       "0  Note: this synopsis is for the orginal Italian...   \n",
       "1  Two thousand years ago, Nhagruul the Foul, a s...   \n",
       "2  Matuschek's, a gift store in Budapest, is the ...   \n",
       "3  Glenn Holland, not a morning person by anyone'...   \n",
       "4  In May 1980, a Cuban man named Tony Montana (A...   \n",
       "\n",
       "                                                tags  split synopsis_source  \n",
       "0          cult, horror, gothic, murder, atmospheric  train            imdb  \n",
       "1                                           violence  train            imdb  \n",
       "2                                           romantic   test            imdb  \n",
       "3             inspiring, romantic, stupid, feel-good  train            imdb  \n",
       "4  cruelty, murder, dramatic, cult, violence, atm...    val            imdb  "
      ]
     },
     "execution_count": 3,
     "metadata": {},
     "output_type": "execute_result"
    }
   ],
   "source": [
    "mpst_full_data_df = pd.read_csv(\"../raw_data/data_mpst_full_data.csv\", sep=\";\", skiprows=1)\n",
    "\n",
    "# Make titles lower case\n",
    "mpst_full_data_df[\"title\"] = mpst_full_data_df[\"title\"].apply(lambda x: x.lower())\n",
    "\n",
    "mpst_full_data_df.head()"
   ]
  },
  {
   "cell_type": "code",
   "execution_count": 4,
   "metadata": {},
   "outputs": [
    {
     "data": {
      "text/plain": [
       "(14828, 6)"
      ]
     },
     "execution_count": 4,
     "metadata": {},
     "output_type": "execute_result"
    }
   ],
   "source": [
    "mpst_full_data_df.shape"
   ]
  },
  {
   "cell_type": "markdown",
   "metadata": {},
   "source": [
    "### Screengrabs Dataset"
   ]
  },
  {
   "cell_type": "code",
   "execution_count": 5,
   "metadata": {},
   "outputs": [
    {
     "name": "stdout",
     "output_type": "stream",
     "text": [
      "Your browser has been opened to visit:\n",
      "\n",
      "    https://accounts.google.com/o/oauth2/auth?response_type=code&client_id=32555940559.apps.googleusercontent.com&redirect_uri=http%3A%2F%2Flocalhost%3A8085%2F&scope=openid+https%3A%2F%2Fwww.googleapis.com%2Fauth%2Fuserinfo.email+https%3A%2F%2Fwww.googleapis.com%2Fauth%2Fcloud-platform+https%3A%2F%2Fwww.googleapis.com%2Fauth%2Fappengine.admin+https%3A%2F%2Fwww.googleapis.com%2Fauth%2Fsqlservice.login+https%3A%2F%2Fwww.googleapis.com%2Fauth%2Fcompute+https%3A%2F%2Fwww.googleapis.com%2Fauth%2Faccounts.reauth&state=mqt56cH7B3DPsVF275QinluZVVCAHp&access_type=offline&code_challenge=WDyWFneJEsBFjx0ComGBqsqCxPrZonTqtelsrWJWzZg&code_challenge_method=S256\n",
      "\n",
      "\n",
      "You are now logged in as [w.m.mulaudzi@gmail.com].\n",
      "Your current project is [ornate-lens-411311].  You can change this setting by running:\n",
      "  $ gcloud config set project PROJECT_ID\n"
     ]
    }
   ],
   "source": [
    "!gcloud auth login"
   ]
  },
  {
   "cell_type": "code",
   "execution_count": 6,
   "metadata": {},
   "outputs": [],
   "source": [
    "# Log into the cine_ethics project\n",
    "project_id = \"ornate-lens-411311\"\n",
    "client = storage.Client(project=project_id)\n",
    "\n",
    "bucket_name = \"cine_ethics\"\n",
    "bucket = client.get_bucket(bucket_name)"
   ]
  },
  {
   "cell_type": "code",
   "execution_count": 7,
   "metadata": {},
   "outputs": [],
   "source": [
    "# Path to the movie on the bucket\n",
    "movies_path = \"data/resized_frames/\""
   ]
  },
  {
   "cell_type": "code",
   "execution_count": 8,
   "metadata": {},
   "outputs": [
    {
     "name": "stdout",
     "output_type": "stream",
     "text": [
      "802\n"
     ]
    }
   ],
   "source": [
    "# Get blobs within the movie folder\n",
    "blobs = bucket.list_blobs(prefix=movies_path)\n",
    "\n",
    "# Dictionary to store movie titles and paths\n",
    "movie_info = {}\n",
    "\n",
    "for blob in blobs:\n",
    "    # Get movie name in format title (year)\n",
    "    movie_name_year_split = os.path.dirname(blob.name).split(\"/\")\n",
    "    movie_name_year = movie_name_year_split[2]\n",
    "\n",
    "    # Strip year from title\n",
    "    movie_name = re.sub(r\"\\s*\\(\\d+\\)\", \"\", movie_name_year).lower()\n",
    "\n",
    "    # Add movie title and path to the dictionary\n",
    "    movie_info[movie_name] = \"/\".join(movie_name_year_split)\n",
    "\n",
    "print(len(movie_info))"
   ]
  },
  {
   "cell_type": "code",
   "execution_count": 9,
   "metadata": {},
   "outputs": [
    {
     "data": {
      "text/html": [
       "<div>\n",
       "<style scoped>\n",
       "    .dataframe tbody tr th:only-of-type {\n",
       "        vertical-align: middle;\n",
       "    }\n",
       "\n",
       "    .dataframe tbody tr th {\n",
       "        vertical-align: top;\n",
       "    }\n",
       "\n",
       "    .dataframe thead th {\n",
       "        text-align: right;\n",
       "    }\n",
       "</style>\n",
       "<table border=\"1\" class=\"dataframe\">\n",
       "  <thead>\n",
       "    <tr style=\"text-align: right;\">\n",
       "      <th></th>\n",
       "      <th>title</th>\n",
       "      <th>paths</th>\n",
       "    </tr>\n",
       "  </thead>\n",
       "  <tbody>\n",
       "    <tr>\n",
       "      <th>0</th>\n",
       "      <td>10 things i hate about you</td>\n",
       "      <td>data/resized_frames/10 Things I Hate About You...</td>\n",
       "    </tr>\n",
       "    <tr>\n",
       "      <th>1</th>\n",
       "      <td>12 monkeys</td>\n",
       "      <td>data/resized_frames/12 Monkeys (1995)</td>\n",
       "    </tr>\n",
       "    <tr>\n",
       "      <th>2</th>\n",
       "      <td>12 years a slave</td>\n",
       "      <td>data/resized_frames/12 Years a Slave (2013)</td>\n",
       "    </tr>\n",
       "    <tr>\n",
       "      <th>3</th>\n",
       "      <td>127 hours</td>\n",
       "      <td>data/resized_frames/127 Hours (2010)</td>\n",
       "    </tr>\n",
       "    <tr>\n",
       "      <th>4</th>\n",
       "      <td>13 hours the secret soldiers of benghazi</td>\n",
       "      <td>data/resized_frames/13 Hours The Secret Soldie...</td>\n",
       "    </tr>\n",
       "  </tbody>\n",
       "</table>\n",
       "</div>"
      ],
      "text/plain": [
       "                                      title  \\\n",
       "0                10 things i hate about you   \n",
       "1                                12 monkeys   \n",
       "2                          12 years a slave   \n",
       "3                                 127 hours   \n",
       "4  13 hours the secret soldiers of benghazi   \n",
       "\n",
       "                                               paths  \n",
       "0  data/resized_frames/10 Things I Hate About You...  \n",
       "1              data/resized_frames/12 Monkeys (1995)  \n",
       "2        data/resized_frames/12 Years a Slave (2013)  \n",
       "3               data/resized_frames/127 Hours (2010)  \n",
       "4  data/resized_frames/13 Hours The Secret Soldie...  "
      ]
     },
     "execution_count": 9,
     "metadata": {},
     "output_type": "execute_result"
    }
   ],
   "source": [
    "screengrabs_df = pd.DataFrame.from_dict(movie_info, orient='index', columns=[\"title\"])\n",
    "\n",
    "# Reset index to make titles a column\n",
    "screengrabs_df.reset_index(inplace=True)\n",
    "screengrabs_df.columns = [\"title\", \"paths\"]\n",
    "\n",
    "screengrabs_df.head()"
   ]
  },
  {
   "cell_type": "markdown",
   "metadata": {},
   "source": [
    "### Merging The Two"
   ]
  },
  {
   "cell_type": "code",
   "execution_count": 10,
   "metadata": {},
   "outputs": [
    {
     "data": {
      "text/html": [
       "<div>\n",
       "<style scoped>\n",
       "    .dataframe tbody tr th:only-of-type {\n",
       "        vertical-align: middle;\n",
       "    }\n",
       "\n",
       "    .dataframe tbody tr th {\n",
       "        vertical-align: top;\n",
       "    }\n",
       "\n",
       "    .dataframe thead th {\n",
       "        text-align: right;\n",
       "    }\n",
       "</style>\n",
       "<table border=\"1\" class=\"dataframe\">\n",
       "  <thead>\n",
       "    <tr style=\"text-align: right;\">\n",
       "      <th></th>\n",
       "      <th>title</th>\n",
       "      <th>paths</th>\n",
       "      <th>imdb_id</th>\n",
       "      <th>plot_synopsis</th>\n",
       "      <th>tags</th>\n",
       "      <th>split</th>\n",
       "      <th>synopsis_source</th>\n",
       "    </tr>\n",
       "  </thead>\n",
       "  <tbody>\n",
       "    <tr>\n",
       "      <th>0</th>\n",
       "      <td>10 things i hate about you</td>\n",
       "      <td>data/resized_frames/10 Things I Hate About You...</td>\n",
       "      <td>tt0147800</td>\n",
       "      <td>Cameron James (Joseph Gordon-Levitt), the new ...</td>\n",
       "      <td>comedy, gothic, adult comedy, clever, romantic...</td>\n",
       "      <td>train</td>\n",
       "      <td>imdb</td>\n",
       "    </tr>\n",
       "    <tr>\n",
       "      <th>1</th>\n",
       "      <td>12 monkeys</td>\n",
       "      <td>data/resized_frames/12 Monkeys (1995)</td>\n",
       "      <td>tt3148266</td>\n",
       "      <td>A deadly virus released in 1996 wipes out almo...</td>\n",
       "      <td>murder</td>\n",
       "      <td>train</td>\n",
       "      <td>wikipedia</td>\n",
       "    </tr>\n",
       "    <tr>\n",
       "      <th>2</th>\n",
       "      <td>12 years a slave</td>\n",
       "      <td>data/resized_frames/12 Years a Slave (2013)</td>\n",
       "      <td>tt2024544</td>\n",
       "      <td>The movie opens with a group of slaves receivi...</td>\n",
       "      <td>dramatic, boring, historical</td>\n",
       "      <td>test</td>\n",
       "      <td>imdb</td>\n",
       "    </tr>\n",
       "    <tr>\n",
       "      <th>3</th>\n",
       "      <td>127 hours</td>\n",
       "      <td>data/resized_frames/127 Hours (2010)</td>\n",
       "      <td>tt1542344</td>\n",
       "      <td>Mountaineer and adventurer Aron Ralston begins...</td>\n",
       "      <td>dramatic, suspenseful, psychological, flashback</td>\n",
       "      <td>test</td>\n",
       "      <td>wikipedia</td>\n",
       "    </tr>\n",
       "    <tr>\n",
       "      <th>4</th>\n",
       "      <td>13 hours the secret soldiers of benghazi</td>\n",
       "      <td>data/resized_frames/13 Hours The Secret Soldie...</td>\n",
       "      <td>NaN</td>\n",
       "      <td>NaN</td>\n",
       "      <td>NaN</td>\n",
       "      <td>NaN</td>\n",
       "      <td>NaN</td>\n",
       "    </tr>\n",
       "  </tbody>\n",
       "</table>\n",
       "</div>"
      ],
      "text/plain": [
       "                                      title  \\\n",
       "0                10 things i hate about you   \n",
       "1                                12 monkeys   \n",
       "2                          12 years a slave   \n",
       "3                                 127 hours   \n",
       "4  13 hours the secret soldiers of benghazi   \n",
       "\n",
       "                                               paths    imdb_id  \\\n",
       "0  data/resized_frames/10 Things I Hate About You...  tt0147800   \n",
       "1              data/resized_frames/12 Monkeys (1995)  tt3148266   \n",
       "2        data/resized_frames/12 Years a Slave (2013)  tt2024544   \n",
       "3               data/resized_frames/127 Hours (2010)  tt1542344   \n",
       "4  data/resized_frames/13 Hours The Secret Soldie...        NaN   \n",
       "\n",
       "                                       plot_synopsis  \\\n",
       "0  Cameron James (Joseph Gordon-Levitt), the new ...   \n",
       "1  A deadly virus released in 1996 wipes out almo...   \n",
       "2  The movie opens with a group of slaves receivi...   \n",
       "3  Mountaineer and adventurer Aron Ralston begins...   \n",
       "4                                                NaN   \n",
       "\n",
       "                                                tags  split synopsis_source  \n",
       "0  comedy, gothic, adult comedy, clever, romantic...  train            imdb  \n",
       "1                                             murder  train       wikipedia  \n",
       "2                       dramatic, boring, historical   test            imdb  \n",
       "3    dramatic, suspenseful, psychological, flashback   test       wikipedia  \n",
       "4                                                NaN    NaN             NaN  "
      ]
     },
     "execution_count": 10,
     "metadata": {},
     "output_type": "execute_result"
    }
   ],
   "source": [
    "synopsis_screengrabs_df = pd.merge(screengrabs_df, mpst_full_data_df, how='left', on=\"title\")\n",
    "synopsis_screengrabs_df.head()"
   ]
  },
  {
   "cell_type": "code",
   "execution_count": 11,
   "metadata": {},
   "outputs": [
    {
     "data": {
      "text/plain": [
       "(915, 7)"
      ]
     },
     "execution_count": 11,
     "metadata": {},
     "output_type": "execute_result"
    }
   ],
   "source": [
    "synopsis_screengrabs_df.shape"
   ]
  },
  {
   "cell_type": "markdown",
   "metadata": {},
   "source": [
    "## Cleaning the Merged Table"
   ]
  },
  {
   "cell_type": "code",
   "execution_count": 12,
   "metadata": {},
   "outputs": [
    {
     "data": {
      "text/plain": [
       "title              0.000000\n",
       "paths              0.000000\n",
       "imdb_id            0.285246\n",
       "plot_synopsis      0.285246\n",
       "tags               0.285246\n",
       "split              0.285246\n",
       "synopsis_source    0.285246\n",
       "dtype: float64"
      ]
     },
     "execution_count": 12,
     "metadata": {},
     "output_type": "execute_result"
    }
   ],
   "source": [
    "# Check percentage of missing values\n",
    "synopsis_screengrabs_df.isna().sum() / len(synopsis_screengrabs_df)"
   ]
  },
  {
   "cell_type": "code",
   "execution_count": 13,
   "metadata": {},
   "outputs": [],
   "source": [
    "synopsis_screengrabs_df.dropna(subset=\"plot_synopsis\", inplace=True)"
   ]
  },
  {
   "cell_type": "code",
   "execution_count": 14,
   "metadata": {},
   "outputs": [
    {
     "data": {
      "text/plain": [
       "title              0.0\n",
       "paths              0.0\n",
       "imdb_id            0.0\n",
       "plot_synopsis      0.0\n",
       "tags               0.0\n",
       "split              0.0\n",
       "synopsis_source    0.0\n",
       "dtype: float64"
      ]
     },
     "execution_count": 14,
     "metadata": {},
     "output_type": "execute_result"
    }
   ],
   "source": [
    "# Check percentage of missing values\n",
    "synopsis_screengrabs_df.isna().sum() / len(synopsis_screengrabs_df)"
   ]
  },
  {
   "cell_type": "code",
   "execution_count": 21,
   "metadata": {},
   "outputs": [],
   "source": [
    "synopsis_screengrabs_df.drop_duplicates(subset=\"title\", inplace=True)"
   ]
  },
  {
   "cell_type": "code",
   "execution_count": 22,
   "metadata": {},
   "outputs": [
    {
     "data": {
      "text/plain": [
       "(541, 7)"
      ]
     },
     "execution_count": 22,
     "metadata": {},
     "output_type": "execute_result"
    }
   ],
   "source": [
    "synopsis_screengrabs_df.shape"
   ]
  },
  {
   "cell_type": "code",
   "execution_count": 23,
   "metadata": {},
   "outputs": [],
   "source": [
    "synopsis_screengrabs_df.to_csv(\"../raw_data/synopsis_screengrabs_final_table.csv\", index=False)"
   ]
  },
  {
   "cell_type": "markdown",
   "metadata": {},
   "source": []
  }
 ],
 "metadata": {
  "kernelspec": {
   "display_name": "cine_ethics",
   "language": "python",
   "name": "python3"
  },
  "language_info": {
   "codemirror_mode": {
    "name": "ipython",
    "version": 3
   },
   "file_extension": ".py",
   "mimetype": "text/x-python",
   "name": "python",
   "nbconvert_exporter": "python",
   "pygments_lexer": "ipython3",
   "version": "3.10.6"
  }
 },
 "nbformat": 4,
 "nbformat_minor": 2
}
