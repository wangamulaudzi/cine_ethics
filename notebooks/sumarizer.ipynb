{
 "cells": [
  {
   "cell_type": "markdown",
   "metadata": {},
   "source": []
  },
  {
   "cell_type": "markdown",
   "metadata": {},
   "source": [
    "# Sumarizer (V2)\n",
    "the goal here is to get and scripot and sumarize it using a hugging face transformer"
   ]
  },
  {
   "cell_type": "code",
   "execution_count": 12,
   "metadata": {},
   "outputs": [
    {
     "name": "stdout",
     "output_type": "stream",
     "text": [
      "Requirement already satisfied: openai==0.28 in /Users/leonardopacher/.pyenv/versions/3.10.6/envs/cine_ethics/lib/python3.10/site-packages (0.28.0)\n",
      "Requirement already satisfied: langchain==0.0.345 in /Users/leonardopacher/.pyenv/versions/3.10.6/envs/cine_ethics/lib/python3.10/site-packages (0.0.345)\n",
      "Requirement already satisfied: pypdf==3.17.4 in /Users/leonardopacher/.pyenv/versions/3.10.6/envs/cine_ethics/lib/python3.10/site-packages (3.17.4)\n",
      "Requirement already satisfied: chromadb==0.4.22 in /Users/leonardopacher/.pyenv/versions/3.10.6/envs/cine_ethics/lib/python3.10/site-packages (0.4.22)\n",
      "Requirement already satisfied: tiktoken==0.5.2 in /Users/leonardopacher/.pyenv/versions/3.10.6/envs/cine_ethics/lib/python3.10/site-packages (0.5.2)\n",
      "Requirement already satisfied: huggingface_hub==0.19.4 in /Users/leonardopacher/.pyenv/versions/3.10.6/envs/cine_ethics/lib/python3.10/site-packages (0.19.4)\n",
      "Requirement already satisfied: diffusers==0.25.0 in /Users/leonardopacher/.pyenv/versions/3.10.6/envs/cine_ethics/lib/python3.10/site-packages (0.25.0)\n",
      "Requirement already satisfied: requests>=2.20 in /Users/leonardopacher/.pyenv/versions/3.10.6/envs/cine_ethics/lib/python3.10/site-packages (from openai==0.28) (2.31.0)\n",
      "Requirement already satisfied: tqdm in /Users/leonardopacher/.pyenv/versions/3.10.6/envs/cine_ethics/lib/python3.10/site-packages (from openai==0.28) (4.66.2)\n",
      "Requirement already satisfied: aiohttp in /Users/leonardopacher/.pyenv/versions/3.10.6/envs/cine_ethics/lib/python3.10/site-packages (from openai==0.28) (3.9.3)\n",
      "Requirement already satisfied: PyYAML>=5.3 in /Users/leonardopacher/.pyenv/versions/3.10.6/envs/cine_ethics/lib/python3.10/site-packages (from langchain==0.0.345) (6.0.1)\n",
      "Requirement already satisfied: SQLAlchemy<3,>=1.4 in /Users/leonardopacher/.pyenv/versions/3.10.6/envs/cine_ethics/lib/python3.10/site-packages (from langchain==0.0.345) (2.0.28)\n",
      "Requirement already satisfied: anyio<4.0 in /Users/leonardopacher/.pyenv/versions/3.10.6/envs/cine_ethics/lib/python3.10/site-packages (from langchain==0.0.345) (3.7.1)\n",
      "Requirement already satisfied: async-timeout<5.0.0,>=4.0.0 in /Users/leonardopacher/.pyenv/versions/3.10.6/envs/cine_ethics/lib/python3.10/site-packages (from langchain==0.0.345) (4.0.3)\n",
      "Requirement already satisfied: dataclasses-json<0.7,>=0.5.7 in /Users/leonardopacher/.pyenv/versions/3.10.6/envs/cine_ethics/lib/python3.10/site-packages (from langchain==0.0.345) (0.6.4)\n",
      "Requirement already satisfied: jsonpatch<2.0,>=1.33 in /Users/leonardopacher/.pyenv/versions/3.10.6/envs/cine_ethics/lib/python3.10/site-packages (from langchain==0.0.345) (1.33)\n",
      "Requirement already satisfied: langchain-core<0.1,>=0.0.9 in /Users/leonardopacher/.pyenv/versions/3.10.6/envs/cine_ethics/lib/python3.10/site-packages (from langchain==0.0.345) (0.0.13)\n",
      "Requirement already satisfied: langsmith<0.1.0,>=0.0.63 in /Users/leonardopacher/.pyenv/versions/3.10.6/envs/cine_ethics/lib/python3.10/site-packages (from langchain==0.0.345) (0.0.92)\n",
      "Requirement already satisfied: numpy<2,>=1 in /Users/leonardopacher/.pyenv/versions/3.10.6/envs/cine_ethics/lib/python3.10/site-packages (from langchain==0.0.345) (1.26.4)\n",
      "Requirement already satisfied: pydantic<3,>=1 in /Users/leonardopacher/.pyenv/versions/3.10.6/envs/cine_ethics/lib/python3.10/site-packages (from langchain==0.0.345) (2.6.3)\n",
      "Requirement already satisfied: tenacity<9.0.0,>=8.1.0 in /Users/leonardopacher/.pyenv/versions/3.10.6/envs/cine_ethics/lib/python3.10/site-packages (from langchain==0.0.345) (8.2.3)\n",
      "Requirement already satisfied: build>=1.0.3 in /Users/leonardopacher/.pyenv/versions/3.10.6/envs/cine_ethics/lib/python3.10/site-packages (from chromadb==0.4.22) (1.1.1)\n",
      "Requirement already satisfied: chroma-hnswlib==0.7.3 in /Users/leonardopacher/.pyenv/versions/3.10.6/envs/cine_ethics/lib/python3.10/site-packages (from chromadb==0.4.22) (0.7.3)\n",
      "Requirement already satisfied: fastapi>=0.95.2 in /Users/leonardopacher/.pyenv/versions/3.10.6/envs/cine_ethics/lib/python3.10/site-packages (from chromadb==0.4.22) (0.110.0)\n",
      "Requirement already satisfied: uvicorn>=0.18.3 in /Users/leonardopacher/.pyenv/versions/3.10.6/envs/cine_ethics/lib/python3.10/site-packages (from uvicorn[standard]>=0.18.3->chromadb==0.4.22) (0.27.1)\n",
      "Requirement already satisfied: posthog>=2.4.0 in /Users/leonardopacher/.pyenv/versions/3.10.6/envs/cine_ethics/lib/python3.10/site-packages (from chromadb==0.4.22) (3.5.0)\n",
      "Requirement already satisfied: typing-extensions>=4.5.0 in /Users/leonardopacher/.pyenv/versions/3.10.6/envs/cine_ethics/lib/python3.10/site-packages (from chromadb==0.4.22) (4.10.0)\n",
      "Requirement already satisfied: pulsar-client>=3.1.0 in /Users/leonardopacher/.pyenv/versions/3.10.6/envs/cine_ethics/lib/python3.10/site-packages (from chromadb==0.4.22) (3.4.0)\n",
      "Requirement already satisfied: onnxruntime>=1.14.1 in /Users/leonardopacher/.pyenv/versions/3.10.6/envs/cine_ethics/lib/python3.10/site-packages (from chromadb==0.4.22) (1.17.1)\n",
      "Requirement already satisfied: opentelemetry-api>=1.2.0 in /Users/leonardopacher/.pyenv/versions/3.10.6/envs/cine_ethics/lib/python3.10/site-packages (from chromadb==0.4.22) (1.23.0)\n",
      "Requirement already satisfied: opentelemetry-exporter-otlp-proto-grpc>=1.2.0 in /Users/leonardopacher/.pyenv/versions/3.10.6/envs/cine_ethics/lib/python3.10/site-packages (from chromadb==0.4.22) (1.23.0)\n",
      "Requirement already satisfied: opentelemetry-instrumentation-fastapi>=0.41b0 in /Users/leonardopacher/.pyenv/versions/3.10.6/envs/cine_ethics/lib/python3.10/site-packages (from chromadb==0.4.22) (0.44b0)\n",
      "Requirement already satisfied: opentelemetry-sdk>=1.2.0 in /Users/leonardopacher/.pyenv/versions/3.10.6/envs/cine_ethics/lib/python3.10/site-packages (from chromadb==0.4.22) (1.23.0)\n",
      "Requirement already satisfied: tokenizers>=0.13.2 in /Users/leonardopacher/.pyenv/versions/3.10.6/envs/cine_ethics/lib/python3.10/site-packages (from chromadb==0.4.22) (0.15.2)\n",
      "Requirement already satisfied: pypika>=0.48.9 in /Users/leonardopacher/.pyenv/versions/3.10.6/envs/cine_ethics/lib/python3.10/site-packages (from chromadb==0.4.22) (0.48.9)\n",
      "Requirement already satisfied: overrides>=7.3.1 in /Users/leonardopacher/.pyenv/versions/3.10.6/envs/cine_ethics/lib/python3.10/site-packages (from chromadb==0.4.22) (7.7.0)\n",
      "Requirement already satisfied: importlib-resources in /Users/leonardopacher/.pyenv/versions/3.10.6/envs/cine_ethics/lib/python3.10/site-packages (from chromadb==0.4.22) (6.1.2)\n",
      "Requirement already satisfied: grpcio>=1.58.0 in /Users/leonardopacher/.pyenv/versions/3.10.6/envs/cine_ethics/lib/python3.10/site-packages (from chromadb==0.4.22) (1.62.0)\n",
      "Requirement already satisfied: bcrypt>=4.0.1 in /Users/leonardopacher/.pyenv/versions/3.10.6/envs/cine_ethics/lib/python3.10/site-packages (from chromadb==0.4.22) (4.1.2)\n",
      "Requirement already satisfied: typer>=0.9.0 in /Users/leonardopacher/.pyenv/versions/3.10.6/envs/cine_ethics/lib/python3.10/site-packages (from chromadb==0.4.22) (0.9.0)\n",
      "Requirement already satisfied: kubernetes>=28.1.0 in /Users/leonardopacher/.pyenv/versions/3.10.6/envs/cine_ethics/lib/python3.10/site-packages (from chromadb==0.4.22) (29.0.0)\n",
      "Requirement already satisfied: mmh3>=4.0.1 in /Users/leonardopacher/.pyenv/versions/3.10.6/envs/cine_ethics/lib/python3.10/site-packages (from chromadb==0.4.22) (4.1.0)\n",
      "Requirement already satisfied: regex>=2022.1.18 in /Users/leonardopacher/.pyenv/versions/3.10.6/envs/cine_ethics/lib/python3.10/site-packages (from tiktoken==0.5.2) (2023.12.25)\n",
      "Requirement already satisfied: filelock in /Users/leonardopacher/.pyenv/versions/3.10.6/envs/cine_ethics/lib/python3.10/site-packages (from huggingface_hub==0.19.4) (3.13.1)\n",
      "Requirement already satisfied: fsspec>=2023.5.0 in /Users/leonardopacher/.pyenv/versions/3.10.6/envs/cine_ethics/lib/python3.10/site-packages (from huggingface_hub==0.19.4) (2024.2.0)\n",
      "Requirement already satisfied: packaging>=20.9 in /Users/leonardopacher/.pyenv/versions/3.10.6/envs/cine_ethics/lib/python3.10/site-packages (from huggingface_hub==0.19.4) (23.2)\n",
      "Requirement already satisfied: importlib-metadata in /Users/leonardopacher/.pyenv/versions/3.10.6/envs/cine_ethics/lib/python3.10/site-packages (from diffusers==0.25.0) (6.11.0)\n",
      "Requirement already satisfied: safetensors>=0.3.1 in /Users/leonardopacher/.pyenv/versions/3.10.6/envs/cine_ethics/lib/python3.10/site-packages (from diffusers==0.25.0) (0.4.2)\n",
      "Requirement already satisfied: Pillow in /Users/leonardopacher/.pyenv/versions/3.10.6/envs/cine_ethics/lib/python3.10/site-packages (from diffusers==0.25.0) (10.2.0)\n",
      "Requirement already satisfied: aiosignal>=1.1.2 in /Users/leonardopacher/.pyenv/versions/3.10.6/envs/cine_ethics/lib/python3.10/site-packages (from aiohttp->openai==0.28) (1.3.1)\n",
      "Requirement already satisfied: attrs>=17.3.0 in /Users/leonardopacher/.pyenv/versions/3.10.6/envs/cine_ethics/lib/python3.10/site-packages (from aiohttp->openai==0.28) (23.2.0)\n",
      "Requirement already satisfied: frozenlist>=1.1.1 in /Users/leonardopacher/.pyenv/versions/3.10.6/envs/cine_ethics/lib/python3.10/site-packages (from aiohttp->openai==0.28) (1.4.1)\n",
      "Requirement already satisfied: multidict<7.0,>=4.5 in /Users/leonardopacher/.pyenv/versions/3.10.6/envs/cine_ethics/lib/python3.10/site-packages (from aiohttp->openai==0.28) (6.0.5)\n",
      "Requirement already satisfied: yarl<2.0,>=1.0 in /Users/leonardopacher/.pyenv/versions/3.10.6/envs/cine_ethics/lib/python3.10/site-packages (from aiohttp->openai==0.28) (1.9.4)\n",
      "Requirement already satisfied: idna>=2.8 in /Users/leonardopacher/.pyenv/versions/3.10.6/envs/cine_ethics/lib/python3.10/site-packages (from anyio<4.0->langchain==0.0.345) (3.6)\n",
      "Requirement already satisfied: sniffio>=1.1 in /Users/leonardopacher/.pyenv/versions/3.10.6/envs/cine_ethics/lib/python3.10/site-packages (from anyio<4.0->langchain==0.0.345) (1.3.1)\n",
      "Requirement already satisfied: exceptiongroup in /Users/leonardopacher/.pyenv/versions/3.10.6/envs/cine_ethics/lib/python3.10/site-packages (from anyio<4.0->langchain==0.0.345) (1.2.0)\n",
      "Requirement already satisfied: pyproject_hooks in /Users/leonardopacher/.pyenv/versions/3.10.6/envs/cine_ethics/lib/python3.10/site-packages (from build>=1.0.3->chromadb==0.4.22) (1.0.0)\n",
      "Requirement already satisfied: tomli>=1.1.0 in /Users/leonardopacher/.pyenv/versions/3.10.6/envs/cine_ethics/lib/python3.10/site-packages (from build>=1.0.3->chromadb==0.4.22) (2.0.1)\n",
      "Requirement already satisfied: marshmallow<4.0.0,>=3.18.0 in /Users/leonardopacher/.pyenv/versions/3.10.6/envs/cine_ethics/lib/python3.10/site-packages (from dataclasses-json<0.7,>=0.5.7->langchain==0.0.345) (3.21.0)\n",
      "Requirement already satisfied: typing-inspect<1,>=0.4.0 in /Users/leonardopacher/.pyenv/versions/3.10.6/envs/cine_ethics/lib/python3.10/site-packages (from dataclasses-json<0.7,>=0.5.7->langchain==0.0.345) (0.9.0)\n",
      "Requirement already satisfied: starlette<0.37.0,>=0.36.3 in /Users/leonardopacher/.pyenv/versions/3.10.6/envs/cine_ethics/lib/python3.10/site-packages (from fastapi>=0.95.2->chromadb==0.4.22) (0.36.3)\n",
      "Requirement already satisfied: jsonpointer>=1.9 in /Users/leonardopacher/.pyenv/versions/3.10.6/envs/cine_ethics/lib/python3.10/site-packages (from jsonpatch<2.0,>=1.33->langchain==0.0.345) (2.4)\n",
      "Requirement already satisfied: certifi>=14.05.14 in /Users/leonardopacher/.pyenv/versions/3.10.6/envs/cine_ethics/lib/python3.10/site-packages (from kubernetes>=28.1.0->chromadb==0.4.22) (2024.2.2)\n",
      "Requirement already satisfied: six>=1.9.0 in /Users/leonardopacher/.pyenv/versions/3.10.6/envs/cine_ethics/lib/python3.10/site-packages (from kubernetes>=28.1.0->chromadb==0.4.22) (1.16.0)\n",
      "Requirement already satisfied: python-dateutil>=2.5.3 in /Users/leonardopacher/.pyenv/versions/3.10.6/envs/cine_ethics/lib/python3.10/site-packages (from kubernetes>=28.1.0->chromadb==0.4.22) (2.9.0.post0)\n",
      "Requirement already satisfied: google-auth>=1.0.1 in /Users/leonardopacher/.pyenv/versions/3.10.6/envs/cine_ethics/lib/python3.10/site-packages (from kubernetes>=28.1.0->chromadb==0.4.22) (2.28.1)\n",
      "Requirement already satisfied: websocket-client!=0.40.0,!=0.41.*,!=0.42.*,>=0.32.0 in /Users/leonardopacher/.pyenv/versions/3.10.6/envs/cine_ethics/lib/python3.10/site-packages (from kubernetes>=28.1.0->chromadb==0.4.22) (1.7.0)\n",
      "Requirement already satisfied: requests-oauthlib in /Users/leonardopacher/.pyenv/versions/3.10.6/envs/cine_ethics/lib/python3.10/site-packages (from kubernetes>=28.1.0->chromadb==0.4.22) (1.3.1)\n",
      "Requirement already satisfied: oauthlib>=3.2.2 in /Users/leonardopacher/.pyenv/versions/3.10.6/envs/cine_ethics/lib/python3.10/site-packages (from kubernetes>=28.1.0->chromadb==0.4.22) (3.2.2)\n",
      "Requirement already satisfied: urllib3>=1.24.2 in /Users/leonardopacher/.pyenv/versions/3.10.6/envs/cine_ethics/lib/python3.10/site-packages (from kubernetes>=28.1.0->chromadb==0.4.22) (2.2.1)\n",
      "Requirement already satisfied: coloredlogs in /Users/leonardopacher/.pyenv/versions/3.10.6/envs/cine_ethics/lib/python3.10/site-packages (from onnxruntime>=1.14.1->chromadb==0.4.22) (15.0.1)\n",
      "Requirement already satisfied: flatbuffers in /Users/leonardopacher/.pyenv/versions/3.10.6/envs/cine_ethics/lib/python3.10/site-packages (from onnxruntime>=1.14.1->chromadb==0.4.22) (23.5.26)\n",
      "Requirement already satisfied: protobuf in /Users/leonardopacher/.pyenv/versions/3.10.6/envs/cine_ethics/lib/python3.10/site-packages (from onnxruntime>=1.14.1->chromadb==0.4.22) (4.25.3)\n",
      "Requirement already satisfied: sympy in /Users/leonardopacher/.pyenv/versions/3.10.6/envs/cine_ethics/lib/python3.10/site-packages (from onnxruntime>=1.14.1->chromadb==0.4.22) (1.12)\n",
      "Requirement already satisfied: deprecated>=1.2.6 in /Users/leonardopacher/.pyenv/versions/3.10.6/envs/cine_ethics/lib/python3.10/site-packages (from opentelemetry-api>=1.2.0->chromadb==0.4.22) (1.2.14)\n",
      "Requirement already satisfied: zipp>=0.5 in /Users/leonardopacher/.pyenv/versions/3.10.6/envs/cine_ethics/lib/python3.10/site-packages (from importlib-metadata->diffusers==0.25.0) (3.17.0)\n",
      "Requirement already satisfied: googleapis-common-protos~=1.52 in /Users/leonardopacher/.pyenv/versions/3.10.6/envs/cine_ethics/lib/python3.10/site-packages (from opentelemetry-exporter-otlp-proto-grpc>=1.2.0->chromadb==0.4.22) (1.62.0)\n",
      "Requirement already satisfied: opentelemetry-exporter-otlp-proto-common==1.23.0 in /Users/leonardopacher/.pyenv/versions/3.10.6/envs/cine_ethics/lib/python3.10/site-packages (from opentelemetry-exporter-otlp-proto-grpc>=1.2.0->chromadb==0.4.22) (1.23.0)\n",
      "Requirement already satisfied: opentelemetry-proto==1.23.0 in /Users/leonardopacher/.pyenv/versions/3.10.6/envs/cine_ethics/lib/python3.10/site-packages (from opentelemetry-exporter-otlp-proto-grpc>=1.2.0->chromadb==0.4.22) (1.23.0)\n",
      "Requirement already satisfied: opentelemetry-instrumentation-asgi==0.44b0 in /Users/leonardopacher/.pyenv/versions/3.10.6/envs/cine_ethics/lib/python3.10/site-packages (from opentelemetry-instrumentation-fastapi>=0.41b0->chromadb==0.4.22) (0.44b0)\n",
      "Requirement already satisfied: opentelemetry-instrumentation==0.44b0 in /Users/leonardopacher/.pyenv/versions/3.10.6/envs/cine_ethics/lib/python3.10/site-packages (from opentelemetry-instrumentation-fastapi>=0.41b0->chromadb==0.4.22) (0.44b0)\n",
      "Requirement already satisfied: opentelemetry-semantic-conventions==0.44b0 in /Users/leonardopacher/.pyenv/versions/3.10.6/envs/cine_ethics/lib/python3.10/site-packages (from opentelemetry-instrumentation-fastapi>=0.41b0->chromadb==0.4.22) (0.44b0)\n",
      "Requirement already satisfied: opentelemetry-util-http==0.44b0 in /Users/leonardopacher/.pyenv/versions/3.10.6/envs/cine_ethics/lib/python3.10/site-packages (from opentelemetry-instrumentation-fastapi>=0.41b0->chromadb==0.4.22) (0.44b0)\n",
      "Requirement already satisfied: setuptools>=16.0 in /Users/leonardopacher/.pyenv/versions/3.10.6/envs/cine_ethics/lib/python3.10/site-packages (from opentelemetry-instrumentation==0.44b0->opentelemetry-instrumentation-fastapi>=0.41b0->chromadb==0.4.22) (69.1.0)\n",
      "Requirement already satisfied: wrapt<2.0.0,>=1.0.0 in /Users/leonardopacher/.pyenv/versions/3.10.6/envs/cine_ethics/lib/python3.10/site-packages (from opentelemetry-instrumentation==0.44b0->opentelemetry-instrumentation-fastapi>=0.41b0->chromadb==0.4.22) (1.14.1)\n",
      "Requirement already satisfied: asgiref~=3.0 in /Users/leonardopacher/.pyenv/versions/3.10.6/envs/cine_ethics/lib/python3.10/site-packages (from opentelemetry-instrumentation-asgi==0.44b0->opentelemetry-instrumentation-fastapi>=0.41b0->chromadb==0.4.22) (3.7.2)\n",
      "Requirement already satisfied: monotonic>=1.5 in /Users/leonardopacher/.pyenv/versions/3.10.6/envs/cine_ethics/lib/python3.10/site-packages (from posthog>=2.4.0->chromadb==0.4.22) (1.6)\n",
      "Requirement already satisfied: backoff>=1.10.0 in /Users/leonardopacher/.pyenv/versions/3.10.6/envs/cine_ethics/lib/python3.10/site-packages (from posthog>=2.4.0->chromadb==0.4.22) (2.2.1)\n",
      "Requirement already satisfied: annotated-types>=0.4.0 in /Users/leonardopacher/.pyenv/versions/3.10.6/envs/cine_ethics/lib/python3.10/site-packages (from pydantic<3,>=1->langchain==0.0.345) (0.6.0)\n",
      "Requirement already satisfied: pydantic-core==2.16.3 in /Users/leonardopacher/.pyenv/versions/3.10.6/envs/cine_ethics/lib/python3.10/site-packages (from pydantic<3,>=1->langchain==0.0.345) (2.16.3)\n",
      "Requirement already satisfied: charset-normalizer<4,>=2 in /Users/leonardopacher/.pyenv/versions/3.10.6/envs/cine_ethics/lib/python3.10/site-packages (from requests>=2.20->openai==0.28) (3.3.2)\n",
      "Requirement already satisfied: greenlet!=0.4.17 in /Users/leonardopacher/.pyenv/versions/3.10.6/envs/cine_ethics/lib/python3.10/site-packages (from SQLAlchemy<3,>=1.4->langchain==0.0.345) (3.0.3)\n",
      "Requirement already satisfied: click<9.0.0,>=7.1.1 in /Users/leonardopacher/.pyenv/versions/3.10.6/envs/cine_ethics/lib/python3.10/site-packages (from typer>=0.9.0->chromadb==0.4.22) (8.1.7)\n",
      "Requirement already satisfied: h11>=0.8 in /Users/leonardopacher/.pyenv/versions/3.10.6/envs/cine_ethics/lib/python3.10/site-packages (from uvicorn>=0.18.3->uvicorn[standard]>=0.18.3->chromadb==0.4.22) (0.14.0)\n",
      "Requirement already satisfied: httptools>=0.5.0 in /Users/leonardopacher/.pyenv/versions/3.10.6/envs/cine_ethics/lib/python3.10/site-packages (from uvicorn[standard]>=0.18.3->chromadb==0.4.22) (0.6.1)\n",
      "Requirement already satisfied: python-dotenv>=0.13 in /Users/leonardopacher/.pyenv/versions/3.10.6/envs/cine_ethics/lib/python3.10/site-packages (from uvicorn[standard]>=0.18.3->chromadb==0.4.22) (1.0.1)\n",
      "Requirement already satisfied: uvloop!=0.15.0,!=0.15.1,>=0.14.0 in /Users/leonardopacher/.pyenv/versions/3.10.6/envs/cine_ethics/lib/python3.10/site-packages (from uvicorn[standard]>=0.18.3->chromadb==0.4.22) (0.19.0)\n",
      "Requirement already satisfied: watchfiles>=0.13 in /Users/leonardopacher/.pyenv/versions/3.10.6/envs/cine_ethics/lib/python3.10/site-packages (from uvicorn[standard]>=0.18.3->chromadb==0.4.22) (0.21.0)\n",
      "Requirement already satisfied: websockets>=10.4 in /Users/leonardopacher/.pyenv/versions/3.10.6/envs/cine_ethics/lib/python3.10/site-packages (from uvicorn[standard]>=0.18.3->chromadb==0.4.22) (12.0)\n",
      "Requirement already satisfied: cachetools<6.0,>=2.0.0 in /Users/leonardopacher/.pyenv/versions/3.10.6/envs/cine_ethics/lib/python3.10/site-packages (from google-auth>=1.0.1->kubernetes>=28.1.0->chromadb==0.4.22) (5.3.3)\n",
      "Requirement already satisfied: pyasn1-modules>=0.2.1 in /Users/leonardopacher/.pyenv/versions/3.10.6/envs/cine_ethics/lib/python3.10/site-packages (from google-auth>=1.0.1->kubernetes>=28.1.0->chromadb==0.4.22) (0.3.0)\n",
      "Requirement already satisfied: rsa<5,>=3.1.4 in /Users/leonardopacher/.pyenv/versions/3.10.6/envs/cine_ethics/lib/python3.10/site-packages (from google-auth>=1.0.1->kubernetes>=28.1.0->chromadb==0.4.22) (4.9)\n",
      "Requirement already satisfied: mypy-extensions>=0.3.0 in /Users/leonardopacher/.pyenv/versions/3.10.6/envs/cine_ethics/lib/python3.10/site-packages (from typing-inspect<1,>=0.4.0->dataclasses-json<0.7,>=0.5.7->langchain==0.0.345) (1.0.0)\n",
      "Requirement already satisfied: humanfriendly>=9.1 in /Users/leonardopacher/.pyenv/versions/3.10.6/envs/cine_ethics/lib/python3.10/site-packages (from coloredlogs->onnxruntime>=1.14.1->chromadb==0.4.22) (10.0)\n",
      "Requirement already satisfied: mpmath>=0.19 in /Users/leonardopacher/.pyenv/versions/3.10.6/envs/cine_ethics/lib/python3.10/site-packages (from sympy->onnxruntime>=1.14.1->chromadb==0.4.22) (1.3.0)\n",
      "Requirement already satisfied: pyasn1<0.6.0,>=0.4.6 in /Users/leonardopacher/.pyenv/versions/3.10.6/envs/cine_ethics/lib/python3.10/site-packages (from pyasn1-modules>=0.2.1->google-auth>=1.0.1->kubernetes>=28.1.0->chromadb==0.4.22) (0.5.1)\n"
     ]
    }
   ],
   "source": [
    "! pip install openai==0.28 \\\n",
    "langchain==0.0.345 \\\n",
    "pypdf==3.17.4 \\\n",
    "chromadb==0.4.22 \\\n",
    "tiktoken==0.5.2 \\\n",
    "huggingface_hub==0.19.4 \\\n",
    "diffusers==0.25.0"
   ]
  },
  {
   "cell_type": "code",
   "execution_count": 29,
   "metadata": {},
   "outputs": [],
   "source": [
    "#the Key from .env\n",
    "import os\n",
    "from dotenv import load_dotenv\n",
    "#Libraries\n",
    "import openai\n",
    "import pandas as pd"
   ]
  },
  {
   "cell_type": "code",
   "execution_count": 43,
   "metadata": {},
   "outputs": [],
   "source": [
    "load_dotenv()\n",
    "openai.api_key = os.getenv('OPENAI_API_KEY')"
   ]
  },
  {
   "cell_type": "code",
   "execution_count": 44,
   "metadata": {},
   "outputs": [
    {
     "name": "stdout",
     "output_type": "stream",
     "text": [
      "Synopsis 1: Note: this synopsis is for the orginal Italian release with the segments in this certain order.Boris Karloff introduces three horror tales of the macabre and the supernatural known as the 'Three Faces of Fear'.THE TELEPHONERosy (Michele Mercier) is an attractive, high-priced Parisian call-girl who returns to her spacious, basement apartment after an evening out when she immediately gets beset by a series of strange phone calls. The caller soon identified himself as Frank, her ex-pimp who has recently escaped from prison. Rosy is terrified for it was her testimony that landed the man in jail. Looking for solace, Rosy phones her lesbian lover Mary (Lynda Alfonsi). The two women have been estranged for some time, but Rosy is certain that she is the only one who can help her. Mary agrees to come over that night. Seconds later, Frank calls again, promising that no matter who she calls for protection, he will have his revenge. Unknown to Rosy, Mary is the caller impersonating Frank. Marry arrives at Rosy's apartment soon after, and does her best to calm Rosy's nerves. She gives the panic-struck woman a tranquillizer and puts her to bed.Later that night as Rosy sleeps, Mary gets up out of bed, and pens a note of confession: she was the one making the strange phone calls when she learned of Franks escape from prison. Knowing that Rosy would call on her for help, she explains that she felt it was her way of coming back into her life after their breakup. While she is busy writing, she fails to notice an intruder in the apartment. This time it is Frank, for real. He creeps up behind Mary and strangles her to death with one of Rosys nylon stockings. The sound of the struggle awaken Rosy and she gasps in fright. The murderous pimp realizes that he just killed the wrong woman, and slowly makes his way to Rosy's bed. However, earlier that night, Rosy had placed a butcher knife under her pillow at Mary's suggestion. Rosy seizes the knife and stabs Frank with it as he's beginning to strangle her. Rosy drops the knife and breaks down in hysteria, surrounded by the two corpses of her former lovers.THE WURDALAKIn 19th Century Russia, Vladimir D'Urfe is a young nobleman on a long trip. During the course of his journey, he finds a beheaded corpse with a knife plunged into its heart. He withdraws the blade and takes it as a souvenir.Later that night, Vladimir stops at a small rural cottage to ask for shelter. He notices several daggers hanging up on one of the walls, and a vacant space that happens to fit the one he has discovered. Vladimir is surprised by the entrance of Giorgio (Glauco Onorato), who explains that the knife belongs to his father, who has not been seen for five days. Giorgio offers a room to the young count, and subsequently introduces him to the rest of the family: his wife (Rika Dialina), their young son Ivan, Giorgio's younger brother Pietro (Massimo Righi), and sister Sdenka (Susy Anderson). It subsequently transpires that they are eagerly anticipating the arrival of their father, Gorcha, as well as the reason for his absence: he has gone to do battle with the outlaw and dreaded wurdalak Ali Beg. Vladimir is confused by the term, and Sdenka explains that a wurdalak is a walking cadaver who feeds on the blood of the living, preferably close friends and family members. Giorgio and Pietro are certain that the corpse Vladimir had discovered is that of Ali Beg, but also realize that there is a strong possibility that their father has been infected by the blood curse too. They warn the count to leave, but he decides to stay and await the old mans return.At the stroke of midnight, Gorcha (Boris Karloff) returns to the cottage. His sour demeanor and unkempt appearance bode the worse, and the two brothers are torn: they realize that it is their duty to kill Gorcha before he feeds on the family, but their love for him makes it difficult to reach a decision. Later that night, both Ivan and Pietro are attacked by Gorcha who drains them of blood, and then flees the cottage. Giorgio stakes and beheads Pietro to prevent him from reviving as a wurdalak. But he is prevented from doing so to Ivan when his wife threatens to commit suicide. Reluntantly, he agrees to bury the child without taking the necessary precautions.That same night, the child rises from his grave and begs to be invited into the cottage. The mother runs to her son's aid, stabbing Giorgio when he attempts to stop her, only to be greeted at the front door by Gorcha. The old man bits and infects his daughter-in-law, who then does the same for her husband. Vladimir and Sdenka flee from the cottage and go on the run and hide out in the ruins of an abandoned cathedral as dawn breaks. Vladimir is optimistic that a long and happy life lies with them. But Sdenka is reluctant to relinquish her family ties. She believes that she is meant to stay with the family.Sdenka's fears about her family are confirmed when that evening, Gorcha and her siblings show up at the abandoned Abby. As Vladimir sleeps, Sdenka is lured into their loving arms where they bite to death. Awakened by her screams, Vladimir rushes to her aid, but the family has already taken her home, forcing the lover to follow suite. The young nobleman finds her, lying motionless on her bed. Sdenka awakens, and a distinct change is visible on her face. No longer caring, Vladimir embraces her, and she bites and infects him too.THE DROP OF WATERIn Victorian London, England, Nurse Helen Chester (Jacqueline Pierreux) is called to a large house to prepare the corpse of an elderly medium for her burial. As she dressed the body, she notices an elaborate diamond ring on its finger. Tempted by greed, Nurse Chester steals it. As she does, a glass tips over, and drops of water begin to splash on the floor. She is also assailed by a fly, no doubt attracted by the odor of the body. Unsettled but pleased by her acquisition, she finishes the job and returns home to her small East End flat.After returning home, Nurse Chester is assailed by strange events. The buzzing fly returns and continues to pester her. Then the lights in her apartment go out, and the sounds of the dripping water continues with maddening regularity. She sees the old womans corpse lying on her bed, and coming towards her. The terrified woman begs for forgiveness, but she ultimately strangles herself, imaging that the medium's hands are gripping her throat.The next morning, the concierge (Harriet White Medin) discovers Nurse Chester's body and calls the police. The investigator on the scene (Gustavo de Nardo) quickly concludes that its a simple case and that Nurse Chester \"died of fright\". The pathologist arrives on the scene to examine the body before it's taken away and he notes that the only sign of violence is a small bruise on her left finger, mostly likely caused when someone pried a ring from her finger. As the doctor makes this observation, the concierge appears distressed, as she has apparently took the ring from the dead Nurse Chester, and is further distracted by the sound of a fly swooping about in the air....Boris Karloff makes a final appearance as Gorcha riding on his horse as he concludes the three tales of fear and tells the viewers to be careful while walking home at night for ghosts and vampires have no fear. The image pulls back to actually reveal him sitting on a prop fake horse with a camera crew and various crewmen moving branches around to simulate the scene of riding through the forest from the Wurdalak segment.\n",
      "\n",
      "Synopsis 2: Two thousand years ago, Nhagruul the Foul, a sorcerer who reveled in corrupting the innocent and the spread of despair, neared the end of his mortal days and was dismayed. Consumed by hatred for the living, Nhagruul sold his soul to the demon Lords of the abyss so that his malign spirit would survive. In an excruciating ritual, Nhagrulls skin was flayed into pages, his bones hammered into a cover, and his diseased blood became the ink to pen a book most vile. Creatures vile and depraved rose from every pit and unclean barrow to partake in the fever of destruction. The kingdoms of Karkoth were consumed by this plague of evil until an order of holy warriors arose from the ashes. The Knights of the New Sun swore an oath to resurrect hope in the land. The purity of their hearts was so great that Pelor, the God of Light, gave the Knights powerful amulets with which to channel his power. Transcendent with divine might, the Knights of the New Sun pierced the shadow that had darkened the land for twelve hundred years and cast it asunder. But not all were awed by their glory. The disciples of Nhagruul disassembled the book and bribed three greedy souls to hide the pieces until they could be retrieved. The ink was discovered and destroyed but, despite years of searching, the cover and pages were never found. Peace ruled the land for centuries and the Knights got lost in the light of their own glory. As memory of the awful events faded so did the power of servants of Pelor. They unwittingly abandoned themselves in the incorrect belief that the Book of Vile Darkness could never again be made whole.Now, the remaining pieces have been discovered, and an ancient evil is attempting to bring them together and restore the relic and the evil it brought. But at the same time a potential new paladin has been named to the Knights of the New Sun to attempt to renew their power to fight this evil. But, to do so, he may need to go against all that he has held dear, risking more that just his own soul in his quest to destroy the evil that surrounds him at every turn.\n",
      "\n"
     ]
    }
   ],
   "source": [
    "# Load the dataset\n",
    "file_path = '/Users/leonardopacher/code/wangamulaudzi/cine_ethics/notebooks/test_data_1.csv'  # Replace with your file path\n",
    "df = pd.read_csv(file_path, sep=';')\n",
    "\n",
    "# Now, you can access the plot_synopsis column like this:\n",
    "plot_synopses = df['plot_synopsis']\n",
    "\n",
    "# If you want to print each synopsis individually:\n",
    "for index, synopsis in enumerate(plot_synopses):\n",
    "    print(f\"Synopsis {index + 1}: {synopsis}\\n\")"
   ]
  },
  {
   "cell_type": "code",
   "execution_count": 45,
   "metadata": {},
   "outputs": [
    {
     "data": {
      "text/html": [
       "<div>\n",
       "<style scoped>\n",
       "    .dataframe tbody tr th:only-of-type {\n",
       "        vertical-align: middle;\n",
       "    }\n",
       "\n",
       "    .dataframe tbody tr th {\n",
       "        vertical-align: top;\n",
       "    }\n",
       "\n",
       "    .dataframe thead th {\n",
       "        text-align: right;\n",
       "    }\n",
       "</style>\n",
       "<table border=\"1\" class=\"dataframe\">\n",
       "  <thead>\n",
       "    <tr style=\"text-align: right;\">\n",
       "      <th></th>\n",
       "      <th>imdb_id</th>\n",
       "      <th>title</th>\n",
       "      <th>plot_synopsis</th>\n",
       "      <th>tags</th>\n",
       "      <th>split</th>\n",
       "      <th>synopsis_source</th>\n",
       "      <th>Unnamed: 6</th>\n",
       "    </tr>\n",
       "  </thead>\n",
       "  <tbody>\n",
       "    <tr>\n",
       "      <th>0</th>\n",
       "      <td>tt0057603</td>\n",
       "      <td>I tre volti della paura</td>\n",
       "      <td>Note: this synopsis is for the orginal Italian...</td>\n",
       "      <td>cult, horror, gothic, murder, atmospheric</td>\n",
       "      <td>train</td>\n",
       "      <td>imdb</td>\n",
       "      <td>NaN</td>\n",
       "    </tr>\n",
       "    <tr>\n",
       "      <th>1</th>\n",
       "      <td>tt1733125</td>\n",
       "      <td>Dungeons &amp; Dragons: The Book of Vile Darkness</td>\n",
       "      <td>Two thousand years ago, Nhagruul the Foul, a s...</td>\n",
       "      <td>violence</td>\n",
       "      <td>train</td>\n",
       "      <td>imdb</td>\n",
       "      <td>NaN</td>\n",
       "    </tr>\n",
       "  </tbody>\n",
       "</table>\n",
       "</div>"
      ],
      "text/plain": [
       "     imdb_id                                          title  \\\n",
       "0  tt0057603                        I tre volti della paura   \n",
       "1  tt1733125  Dungeons & Dragons: The Book of Vile Darkness   \n",
       "\n",
       "                                       plot_synopsis  \\\n",
       "0  Note: this synopsis is for the orginal Italian...   \n",
       "1  Two thousand years ago, Nhagruul the Foul, a s...   \n",
       "\n",
       "                                        tags  split synopsis_source  \\\n",
       "0  cult, horror, gothic, murder, atmospheric  train            imdb   \n",
       "1                                   violence  train            imdb   \n",
       "\n",
       "   Unnamed: 6  \n",
       "0         NaN  \n",
       "1         NaN  "
      ]
     },
     "execution_count": 45,
     "metadata": {},
     "output_type": "execute_result"
    }
   ],
   "source": [
    "df.head()"
   ]
  },
  {
   "cell_type": "markdown",
   "metadata": {},
   "source": [
    "## syn generator (syn+syn = merged-syn)"
   ]
  },
  {
   "cell_type": "code",
   "execution_count": 46,
   "metadata": {},
   "outputs": [
    {
     "name": "stdout",
     "output_type": "stream",
     "text": [
      "Note: this synopsis is for the orginal Italian release with the segments in this certain order.Boris Karloff introduces three horror tales of the macabre and the supernatural known as the 'Three Faces of Fear'.THE TELEPHONERosy (Michele Mercier) is an attractive, high-priced Parisian call-girl who returns to her spacious, basement apartment after an evening out when she immediately gets beset by a series of strange phone calls. The caller soon identified himself as Frank, her ex-pimp who has recently escaped from prison. Rosy is terrified for it was her testimony that landed the man in jail. Looking for solace, Rosy phones her lesbian lover Mary (Lynda Alfonsi). The two women have been estranged for some time, but Rosy is certain that she is the only one who can help her. Mary agrees to come over that night. Seconds later, Frank calls again, promising that no matter who she calls for protection, he will have his revenge. Unknown to Rosy, Mary is the caller impersonating Frank. Marry arrives at Rosy's apartment soon after, and does her best to calm Rosy's nerves. She gives the panic-struck woman a tranquillizer and puts her to bed.Later that night as Rosy sleeps, Mary gets up out of bed, and pens a note of confession: she was the one making the strange phone calls when she learned of Franks escape from prison. Knowing that Rosy would call on her for help, she explains that she felt it was her way of coming back into her life after their breakup. While she is busy writing, she fails to notice an intruder in the apartment. This time it is Frank, for real. He creeps up behind Mary and strangles her to death with one of Rosys nylon stockings. The sound of the struggle awaken Rosy and she gasps in fright. The murderous pimp realizes that he just killed the wrong woman, and slowly makes his way to Rosy's bed. However, earlier that night, Rosy had placed a butcher knife under her pillow at Mary's suggestion. Rosy seizes the knife and stabs Frank with it as he's beginning to strangle her. Rosy drops the knife and breaks down in hysteria, surrounded by the two corpses of her former lovers.THE WURDALAKIn 19th Century Russia, Vladimir D'Urfe is a young nobleman on a long trip. During the course of his journey, he finds a beheaded corpse with a knife plunged into its heart. He withdraws the blade and takes it as a souvenir.Later that night, Vladimir stops at a small rural cottage to ask for shelter. He notices several daggers hanging up on one of the walls, and a vacant space that happens to fit the one he has discovered. Vladimir is surprised by the entrance of Giorgio (Glauco Onorato), who explains that the knife belongs to his father, who has not been seen for five days. Giorgio offers a room to the young count, and subsequently introduces him to the rest of the family: his wife (Rika Dialina), their young son Ivan, Giorgio's younger brother Pietro (Massimo Righi), and sister Sdenka (Susy Anderson). It subsequently transpires that they are eagerly anticipating the arrival of their father, Gorcha, as well as the reason for his absence: he has gone to do battle with the outlaw and dreaded wurdalak Ali Beg. Vladimir is confused by the term, and Sdenka explains that a wurdalak is a walking cadaver who feeds on the blood of the living, preferably close friends and family members. Giorgio and Pietro are certain that the corpse Vladimir had discovered is that of Ali Beg, but also realize that there is a strong possibility that their father has been infected by the blood curse too. They warn the count to leave, but he decides to stay and await the old mans return.At the stroke of midnight, Gorcha (Boris Karloff) returns to the cottage. His sour demeanor and unkempt appearance bode the worse, and the two brothers are torn: they realize that it is their duty to kill Gorcha before he feeds on the family, but their love for him makes it difficult to reach a decision. Later that night, both Ivan and Pietro are attacked by Gorcha who drains them of blood, and then flees the cottage. Giorgio stakes and beheads Pietro to prevent him from reviving as a wurdalak. But he is prevented from doing so to Ivan when his wife threatens to commit suicide. Reluntantly, he agrees to bury the child without taking the necessary precautions.That same night, the child rises from his grave and begs to be invited into the cottage. The mother runs to her son's aid, stabbing Giorgio when he attempts to stop her, only to be greeted at the front door by Gorcha. The old man bits and infects his daughter-in-law, who then does the same for her husband. Vladimir and Sdenka flee from the cottage and go on the run and hide out in the ruins of an abandoned cathedral as dawn breaks. Vladimir is optimistic that a long and happy life lies with them. But Sdenka is reluctant to relinquish her family ties. She believes that she is meant to stay with the family.Sdenka's fears about her family are confirmed when that evening, Gorcha and her siblings show up at the abandoned Abby. As Vladimir sleeps, Sdenka is lured into their loving arms where they bite to death. Awakened by her screams, Vladimir rushes to her aid, but the family has already taken her home, forcing the lover to follow suite. The young nobleman finds her, lying motionless on her bed. Sdenka awakens, and a distinct change is visible on her face. No longer caring, Vladimir embraces her, and she bites and infects him too.THE DROP OF WATERIn Victorian London, England, Nurse Helen Chester (Jacqueline Pierreux) is called to a large house to prepare the corpse of an elderly medium for her burial. As she dressed the body, she notices an elaborate diamond ring on its finger. Tempted by greed, Nurse Chester steals it. As she does, a glass tips over, and drops of water begin to splash on the floor. She is also assailed by a fly, no doubt attracted by the odor of the body. Unsettled but pleased by her acquisition, she finishes the job and returns home to her small East End flat.After returning home, Nurse Chester is assailed by strange events. The buzzing fly returns and continues to pester her. Then the lights in her apartment go out, and the sounds of the dripping water continues with maddening regularity. She sees the old womans corpse lying on her bed, and coming towards her. The terrified woman begs for forgiveness, but she ultimately strangles herself, imaging that the medium's hands are gripping her throat.The next morning, the concierge (Harriet White Medin) discovers Nurse Chester's body and calls the police. The investigator on the scene (Gustavo de Nardo) quickly concludes that its a simple case and that Nurse Chester \"died of fright\". The pathologist arrives on the scene to examine the body before it's taken away and he notes that the only sign of violence is a small bruise on her left finger, mostly likely caused when someone pried a ring from her finger. As the doctor makes this observation, the concierge appears distressed, as she has apparently took the ring from the dead Nurse Chester, and is further distracted by the sound of a fly swooping about in the air....Boris Karloff makes a final appearance as Gorcha riding on his horse as he concludes the three tales of fear and tells the viewers to be careful while walking home at night for ghosts and vampires have no fear. The image pulls back to actually reveal him sitting on a prop fake horse with a camera crew and various crewmen moving branches around to simulate the scene of riding through the forest from the Wurdalak segment.\n",
      "Two thousand years ago, Nhagruul the Foul, a sorcerer who reveled in corrupting the innocent and the spread of despair, neared the end of his mortal days and was dismayed. Consumed by hatred for the living, Nhagruul sold his soul to the demon Lords of the abyss so that his malign spirit would survive. In an excruciating ritual, Nhagrulls skin was flayed into pages, his bones hammered into a cover, and his diseased blood became the ink to pen a book most vile. Creatures vile and depraved rose from every pit and unclean barrow to partake in the fever of destruction. The kingdoms of Karkoth were consumed by this plague of evil until an order of holy warriors arose from the ashes. The Knights of the New Sun swore an oath to resurrect hope in the land. The purity of their hearts was so great that Pelor, the God of Light, gave the Knights powerful amulets with which to channel his power. Transcendent with divine might, the Knights of the New Sun pierced the shadow that had darkened the land for twelve hundred years and cast it asunder. But not all were awed by their glory. The disciples of Nhagruul disassembled the book and bribed three greedy souls to hide the pieces until they could be retrieved. The ink was discovered and destroyed but, despite years of searching, the cover and pages were never found. Peace ruled the land for centuries and the Knights got lost in the light of their own glory. As memory of the awful events faded so did the power of servants of Pelor. They unwittingly abandoned themselves in the incorrect belief that the Book of Vile Darkness could never again be made whole.Now, the remaining pieces have been discovered, and an ancient evil is attempting to bring them together and restore the relic and the evil it brought. But at the same time a potential new paladin has been named to the Knights of the New Sun to attempt to renew their power to fight this evil. But, to do so, he may need to go against all that he has held dear, risking more that just his own soul in his quest to destroy the evil that surrounds him at every turn.\n"
     ]
    }
   ],
   "source": [
    "for i, synopsis in enumerate(df['plot_synopsis']):\n",
    "    locals()[f'syn_{i + 1}'] = synopsis\n",
    "\n",
    "\n",
    "print(syn_1)  # prints the first synopsis\n",
    "print(syn_2)"
   ]
  },
  {
   "cell_type": "markdown",
   "metadata": {},
   "source": [
    "## Title and content "
   ]
  },
  {
   "cell_type": "code",
   "execution_count": 47,
   "metadata": {},
   "outputs": [
    {
     "name": "stdout",
     "output_type": "stream",
     "text": [
      "I tre volti della paura\n",
      "Note: this synopsis is for the orginal Italian release with the segments in this certain order.Boris Karloff introduces three horror tales of the macabre and the supernatural known as the 'Three Faces of Fear'.THE TELEPHONERosy (Michele Mercier) is an attractive, high-priced Parisian call-girl who returns to her spacious, basement apartment after an evening out when she immediately gets beset by a series of strange phone calls. The caller soon identified himself as Frank, her ex-pimp who has recently escaped from prison. Rosy is terrified for it was her testimony that landed the man in jail. Looking for solace, Rosy phones her lesbian lover Mary (Lynda Alfonsi). The two women have been estranged for some time, but Rosy is certain that she is the only one who can help her. Mary agrees to come over that night. Seconds later, Frank calls again, promising that no matter who she calls for protection, he will have his revenge. Unknown to Rosy, Mary is the caller impersonating Frank. Marry arrives at Rosy's apartment soon after, and does her best to calm Rosy's nerves. She gives the panic-struck woman a tranquillizer and puts her to bed.Later that night as Rosy sleeps, Mary gets up out of bed, and pens a note of confession: she was the one making the strange phone calls when she learned of Franks escape from prison. Knowing that Rosy would call on her for help, she explains that she felt it was her way of coming back into her life after their breakup. While she is busy writing, she fails to notice an intruder in the apartment. This time it is Frank, for real. He creeps up behind Mary and strangles her to death with one of Rosys nylon stockings. The sound of the struggle awaken Rosy and she gasps in fright. The murderous pimp realizes that he just killed the wrong woman, and slowly makes his way to Rosy's bed. However, earlier that night, Rosy had placed a butcher knife under her pillow at Mary's suggestion. Rosy seizes the knife and stabs Frank with it as he's beginning to strangle her. Rosy drops the knife and breaks down in hysteria, surrounded by the two corpses of her former lovers.THE WURDALAKIn 19th Century Russia, Vladimir D'Urfe is a young nobleman on a long trip. During the course of his journey, he finds a beheaded corpse with a knife plunged into its heart. He withdraws the blade and takes it as a souvenir.Later that night, Vladimir stops at a small rural cottage to ask for shelter. He notices several daggers hanging up on one of the walls, and a vacant space that happens to fit the one he has discovered. Vladimir is surprised by the entrance of Giorgio (Glauco Onorato), who explains that the knife belongs to his father, who has not been seen for five days. Giorgio offers a room to the young count, and subsequently introduces him to the rest of the family: his wife (Rika Dialina), their young son Ivan, Giorgio's younger brother Pietro (Massimo Righi), and sister Sdenka (Susy Anderson). It subsequently transpires that they are eagerly anticipating the arrival of their father, Gorcha, as well as the reason for his absence: he has gone to do battle with the outlaw and dreaded wurdalak Ali Beg. Vladimir is confused by the term, and Sdenka explains that a wurdalak is a walking cadaver who feeds on the blood of the living, preferably close friends and family members. Giorgio and Pietro are certain that the corpse Vladimir had discovered is that of Ali Beg, but also realize that there is a strong possibility that their father has been infected by the blood curse too. They warn the count to leave, but he decides to stay and await the old mans return.At the stroke of midnight, Gorcha (Boris Karloff) returns to the cottage. His sour demeanor and unkempt appearance bode the worse, and the two brothers are torn: they realize that it is their duty to kill Gorcha before he feeds on the family, but their love for him makes it difficult to reach a decision. Later that night, both Ivan and Pietro are attacked by Gorcha who drains them of blood, and then flees the cottage. Giorgio stakes and beheads Pietro to prevent him from reviving as a wurdalak. But he is prevented from doing so to Ivan when his wife threatens to commit suicide. Reluntantly, he agrees to bury the child without taking the necessary precautions.That same night, the child rises from his grave and begs to be invited into the cottage. The mother runs to her son's aid, stabbing Giorgio when he attempts to stop her, only to be greeted at the front door by Gorcha. The old man bits and infects his daughter-in-law, who then does the same for her husband. Vladimir and Sdenka flee from the cottage and go on the run and hide out in the ruins of an abandoned cathedral as dawn breaks. Vladimir is optimistic that a long and happy life lies with them. But Sdenka is reluctant to relinquish her family ties. She believes that she is meant to stay with the family.Sdenka's fears about her family are confirmed when that evening, Gorcha and her siblings show up at the abandoned Abby. As Vladimir sleeps, Sdenka is lured into their loving arms where they bite to death. Awakened by her screams, Vladimir rushes to her aid, but the family has already taken her home, forcing the lover to follow suite. The young nobleman finds her, lying motionless on her bed. Sdenka awakens, and a distinct change is visible on her face. No longer caring, Vladimir embraces her, and she bites and infects him too.THE DROP OF WATERIn Victorian London, England, Nurse Helen Chester (Jacqueline Pierreux) is called to a large house to prepare the corpse of an elderly medium for her burial. As she dressed the body, she notices an elaborate diamond ring on its finger. Tempted by greed, Nurse Chester steals it. As she does, a glass tips over, and drops of water begin to splash on the floor. She is also assailed by a fly, no doubt attracted by the odor of the body. Unsettled but pleased by her acquisition, she finishes the job and returns home to her small East End flat.After returning home, Nurse Chester is assailed by strange events. The buzzing fly returns and continues to pester her. Then the lights in her apartment go out, and the sounds of the dripping water continues with maddening regularity. She sees the old womans corpse lying on her bed, and coming towards her. The terrified woman begs for forgiveness, but she ultimately strangles herself, imaging that the medium's hands are gripping her throat.The next morning, the concierge (Harriet White Medin) discovers Nurse Chester's body and calls the police. The investigator on the scene (Gustavo de Nardo) quickly concludes that its a simple case and that Nurse Chester \"died of fright\". The pathologist arrives on the scene to examine the body before it's taken away and he notes that the only sign of violence is a small bruise on her left finger, mostly likely caused when someone pried a ring from her finger. As the doctor makes this observation, the concierge appears distressed, as she has apparently took the ring from the dead Nurse Chester, and is further distracted by the sound of a fly swooping about in the air....Boris Karloff makes a final appearance as Gorcha riding on his horse as he concludes the three tales of fear and tells the viewers to be careful while walking home at night for ghosts and vampires have no fear. The image pulls back to actually reveal him sitting on a prop fake horse with a camera crew and various crewmen moving branches around to simulate the scene of riding through the forest from the Wurdalak segment.\n",
      "Dungeons & Dragons: The Book of Vile Darkness\n",
      "Two thousand years ago, Nhagruul the Foul, a sorcerer who reveled in corrupting the innocent and the spread of despair, neared the end of his mortal days and was dismayed. Consumed by hatred for the living, Nhagruul sold his soul to the demon Lords of the abyss so that his malign spirit would survive. In an excruciating ritual, Nhagrulls skin was flayed into pages, his bones hammered into a cover, and his diseased blood became the ink to pen a book most vile. Creatures vile and depraved rose from every pit and unclean barrow to partake in the fever of destruction. The kingdoms of Karkoth were consumed by this plague of evil until an order of holy warriors arose from the ashes. The Knights of the New Sun swore an oath to resurrect hope in the land. The purity of their hearts was so great that Pelor, the God of Light, gave the Knights powerful amulets with which to channel his power. Transcendent with divine might, the Knights of the New Sun pierced the shadow that had darkened the land for twelve hundred years and cast it asunder. But not all were awed by their glory. The disciples of Nhagruul disassembled the book and bribed three greedy souls to hide the pieces until they could be retrieved. The ink was discovered and destroyed but, despite years of searching, the cover and pages were never found. Peace ruled the land for centuries and the Knights got lost in the light of their own glory. As memory of the awful events faded so did the power of servants of Pelor. They unwittingly abandoned themselves in the incorrect belief that the Book of Vile Darkness could never again be made whole.Now, the remaining pieces have been discovered, and an ancient evil is attempting to bring them together and restore the relic and the evil it brought. But at the same time a potential new paladin has been named to the Knights of the New Sun to attempt to renew their power to fight this evil. But, to do so, he may need to go against all that he has held dear, risking more that just his own soul in his quest to destroy the evil that surrounds him at every turn.\n"
     ]
    }
   ],
   "source": [
    "for i, (title, synopsis) in enumerate(zip(df['title'], df['plot_synopsis'])):\n",
    "    locals()[f'title_{i + 1}'] = title  # Create variable for title\n",
    "    locals()[f'syn_{i + 1}'] = synopsis  # Create variable for synopsis\n",
    "\n",
    "# Now, each title and synopsis is assigned to title_1, syn_1, title_2, syn_2, ..., title_n, syn_n\n",
    "# You can access them like this:\n",
    "print(title_1)  # prints the first title\n",
    "print(syn_1)    # prints the first synopsis\n",
    "print(title_2)  # prints the second title\n",
    "print(syn_2)"
   ]
  },
  {
   "cell_type": "markdown",
   "metadata": {},
   "source": [
    "## Title and content generation"
   ]
  },
  {
   "cell_type": "code",
   "execution_count": 48,
   "metadata": {},
   "outputs": [
    {
     "name": "stdout",
     "output_type": "stream",
     "text": [
      "Title: The Three Faces of Darkness\n",
      "\n",
      "Synopsis:\n",
      "In \"The Telephoner,\" Rosy, a high-priced Parisian call-girl, receives strange phone calls from her escaped ex-pimp, Frank. Terrified, she seeks solace from her estranged lesbian lover, Mary, who turns out to be the caller impersonating Frank. A series of unfortunate events ensues, resulting in the death of Mary and Frank, leaving Rosy in hysteria.\n",
      "\n",
      "In \"The Wurdalak,\" Vladimir D'Urfe, a young nobleman, encounters a beheaded corpse with a knife plunged into its heart during his journey. Seeking shelter at a rural cottage, he learns of the family's battle with the dreaded wurdalak Ali Beg. When Gorcha, the family patriarch, returns home and shows signs of being infected, a series of tragic events unfolds, ultimately leading to Vladimir and Sdenka trying to survive the wurdalaks.\n",
      "\n",
      "In \"The Drop of Water,\" Nurse Helen\n"
     ]
    }
   ],
   "source": [
    "# Prompt for the AI model\n",
    "prompt = f\"rewrite the synopsis from two synopsus mixing content and generating a new title from {title_1} , {title_2} after it create a new synopsis from those synopsis {syn_1} and {syn_2}\"\n",
    "\n",
    "response = openai.ChatCompletion.create(\n",
    "    model=\"gpt-3.5-turbo-0613\",  # Use the engine of your choice\n",
    "    messages = [{\"role\": \"system\", \"content\": \"You are a creative writer that merge in a creative way titles and content.\"},\n",
    "                {\"role\": \"user\", \"content\": prompt}],\n",
    "    max_tokens = 200\n",
    ")\n",
    "\n",
    "print(response[\"choices\"][0][\"message\"][\"content\"])\n",
    "response_ai = response[\"choices\"][0][\"message\"][\"content\"]"
   ]
  },
  {
   "cell_type": "code",
   "execution_count": 49,
   "metadata": {},
   "outputs": [
    {
     "data": {
      "text/html": [
       "<div>\n",
       "<style scoped>\n",
       "    .dataframe tbody tr th:only-of-type {\n",
       "        vertical-align: middle;\n",
       "    }\n",
       "\n",
       "    .dataframe tbody tr th {\n",
       "        vertical-align: top;\n",
       "    }\n",
       "\n",
       "    .dataframe thead th {\n",
       "        text-align: right;\n",
       "    }\n",
       "</style>\n",
       "<table border=\"1\" class=\"dataframe\">\n",
       "  <thead>\n",
       "    <tr style=\"text-align: right;\">\n",
       "      <th></th>\n",
       "      <th>imdb_id</th>\n",
       "      <th>title</th>\n",
       "      <th>plot_synopsis</th>\n",
       "      <th>tags</th>\n",
       "      <th>split</th>\n",
       "      <th>synopsis_source</th>\n",
       "      <th>Unnamed: 6</th>\n",
       "    </tr>\n",
       "  </thead>\n",
       "  <tbody>\n",
       "    <tr>\n",
       "      <th>0</th>\n",
       "      <td>tt0057603</td>\n",
       "      <td>I tre volti della paura</td>\n",
       "      <td>Note: this synopsis is for the orginal Italian...</td>\n",
       "      <td>cult, horror, gothic, murder, atmospheric</td>\n",
       "      <td>train</td>\n",
       "      <td>imdb</td>\n",
       "      <td>NaN</td>\n",
       "    </tr>\n",
       "    <tr>\n",
       "      <th>1</th>\n",
       "      <td>tt1733125</td>\n",
       "      <td>Dungeons &amp; Dragons: The Book of Vile Darkness</td>\n",
       "      <td>Two thousand years ago, Nhagruul the Foul, a s...</td>\n",
       "      <td>violence</td>\n",
       "      <td>train</td>\n",
       "      <td>imdb</td>\n",
       "      <td>NaN</td>\n",
       "    </tr>\n",
       "  </tbody>\n",
       "</table>\n",
       "</div>"
      ],
      "text/plain": [
       "     imdb_id                                          title  \\\n",
       "0  tt0057603                        I tre volti della paura   \n",
       "1  tt1733125  Dungeons & Dragons: The Book of Vile Darkness   \n",
       "\n",
       "                                       plot_synopsis  \\\n",
       "0  Note: this synopsis is for the orginal Italian...   \n",
       "1  Two thousand years ago, Nhagruul the Foul, a s...   \n",
       "\n",
       "                                        tags  split synopsis_source  \\\n",
       "0  cult, horror, gothic, murder, atmospheric  train            imdb   \n",
       "1                                   violence  train            imdb   \n",
       "\n",
       "   Unnamed: 6  \n",
       "0         NaN  \n",
       "1         NaN  "
      ]
     },
     "execution_count": 49,
     "metadata": {},
     "output_type": "execute_result"
    }
   ],
   "source": [
    "df.head()"
   ]
  },
  {
   "cell_type": "code",
   "execution_count": 50,
   "metadata": {},
   "outputs": [
    {
     "data": {
      "text/plain": [
       "'Note: this synopsis is for the orginal Italian release with the segments in this certain order.Boris Karloff introduces three horror tales of the macabre and the supernatural known as the \\'Three Faces of Fear\\'.THE TELEPHONERosy (Michele Mercier) is an attractive, high-priced Parisian call-girl who returns to her spacious, basement apartment after an evening out when she immediately gets beset by a series of strange phone calls. The caller soon identified himself as Frank, her ex-pimp who has recently escaped from prison. Rosy is terrified for it was her testimony that landed the man in jail. Looking for solace, Rosy phones her lesbian lover Mary (Lynda Alfonsi). The two women have been estranged for some time, but Rosy is certain that she is the only one who can help her. Mary agrees to come over that night. Seconds later, Frank calls again, promising that no matter who she calls for protection, he will have his revenge. Unknown to Rosy, Mary is the caller impersonating Frank. Marry arrives at Rosy\\'s apartment soon after, and does her best to calm Rosy\\'s nerves. She gives the panic-struck woman a tranquillizer and puts her to bed.Later that night as Rosy sleeps, Mary gets up out of bed, and pens a note of confession: she was the one making the strange phone calls when she learned of Franks escape from prison. Knowing that Rosy would call on her for help, she explains that she felt it was her way of coming back into her life after their breakup. While she is busy writing, she fails to notice an intruder in the apartment. This time it is Frank, for real. He creeps up behind Mary and strangles her to death with one of Rosys nylon stockings. The sound of the struggle awaken Rosy and she gasps in fright. The murderous pimp realizes that he just killed the wrong woman, and slowly makes his way to Rosy\\'s bed. However, earlier that night, Rosy had placed a butcher knife under her pillow at Mary\\'s suggestion. Rosy seizes the knife and stabs Frank with it as he\\'s beginning to strangle her. Rosy drops the knife and breaks down in hysteria, surrounded by the two corpses of her former lovers.THE WURDALAKIn 19th Century Russia, Vladimir D\\'Urfe is a young nobleman on a long trip. During the course of his journey, he finds a beheaded corpse with a knife plunged into its heart. He withdraws the blade and takes it as a souvenir.Later that night, Vladimir stops at a small rural cottage to ask for shelter. He notices several daggers hanging up on one of the walls, and a vacant space that happens to fit the one he has discovered. Vladimir is surprised by the entrance of Giorgio (Glauco Onorato), who explains that the knife belongs to his father, who has not been seen for five days. Giorgio offers a room to the young count, and subsequently introduces him to the rest of the family: his wife (Rika Dialina), their young son Ivan, Giorgio\\'s younger brother Pietro (Massimo Righi), and sister Sdenka (Susy Anderson). It subsequently transpires that they are eagerly anticipating the arrival of their father, Gorcha, as well as the reason for his absence: he has gone to do battle with the outlaw and dreaded wurdalak Ali Beg. Vladimir is confused by the term, and Sdenka explains that a wurdalak is a walking cadaver who feeds on the blood of the living, preferably close friends and family members. Giorgio and Pietro are certain that the corpse Vladimir had discovered is that of Ali Beg, but also realize that there is a strong possibility that their father has been infected by the blood curse too. They warn the count to leave, but he decides to stay and await the old mans return.At the stroke of midnight, Gorcha (Boris Karloff) returns to the cottage. His sour demeanor and unkempt appearance bode the worse, and the two brothers are torn: they realize that it is their duty to kill Gorcha before he feeds on the family, but their love for him makes it difficult to reach a decision. Later that night, both Ivan and Pietro are attacked by Gorcha who drains them of blood, and then flees the cottage. Giorgio stakes and beheads Pietro to prevent him from reviving as a wurdalak. But he is prevented from doing so to Ivan when his wife threatens to commit suicide. Reluntantly, he agrees to bury the child without taking the necessary precautions.That same night, the child rises from his grave and begs to be invited into the cottage. The mother runs to her son\\'s aid, stabbing Giorgio when he attempts to stop her, only to be greeted at the front door by Gorcha. The old man bits and infects his daughter-in-law, who then does the same for her husband. Vladimir and Sdenka flee from the cottage and go on the run and hide out in the ruins of an abandoned cathedral as dawn breaks. Vladimir is optimistic that a long and happy life lies with them. But Sdenka is reluctant to relinquish her family ties. She believes that she is meant to stay with the family.Sdenka\\'s fears about her family are confirmed when that evening, Gorcha and her siblings show up at the abandoned Abby. As Vladimir sleeps, Sdenka is lured into their loving arms where they bite to death. Awakened by her screams, Vladimir rushes to her aid, but the family has already taken her home, forcing the lover to follow suite. The young nobleman finds her, lying motionless on her bed. Sdenka awakens, and a distinct change is visible on her face. No longer caring, Vladimir embraces her, and she bites and infects him too.THE DROP OF WATERIn Victorian London, England, Nurse Helen Chester (Jacqueline Pierreux) is called to a large house to prepare the corpse of an elderly medium for her burial. As she dressed the body, she notices an elaborate diamond ring on its finger. Tempted by greed, Nurse Chester steals it. As she does, a glass tips over, and drops of water begin to splash on the floor. She is also assailed by a fly, no doubt attracted by the odor of the body. Unsettled but pleased by her acquisition, she finishes the job and returns home to her small East End flat.After returning home, Nurse Chester is assailed by strange events. The buzzing fly returns and continues to pester her. Then the lights in her apartment go out, and the sounds of the dripping water continues with maddening regularity. She sees the old womans corpse lying on her bed, and coming towards her. The terrified woman begs for forgiveness, but she ultimately strangles herself, imaging that the medium\\'s hands are gripping her throat.The next morning, the concierge (Harriet White Medin) discovers Nurse Chester\\'s body and calls the police. The investigator on the scene (Gustavo de Nardo) quickly concludes that its a simple case and that Nurse Chester \"died of fright\". The pathologist arrives on the scene to examine the body before it\\'s taken away and he notes that the only sign of violence is a small bruise on her left finger, mostly likely caused when someone pried a ring from her finger. As the doctor makes this observation, the concierge appears distressed, as she has apparently took the ring from the dead Nurse Chester, and is further distracted by the sound of a fly swooping about in the air....Boris Karloff makes a final appearance as Gorcha riding on his horse as he concludes the three tales of fear and tells the viewers to be careful while walking home at night for ghosts and vampires have no fear. The image pulls back to actually reveal him sitting on a prop fake horse with a camera crew and various crewmen moving branches around to simulate the scene of riding through the forest from the Wurdalak segment.'"
      ]
     },
     "execution_count": 50,
     "metadata": {},
     "output_type": "execute_result"
    }
   ],
   "source": [
    "df[\"plot_synopsis\"][0]"
   ]
  },
  {
   "cell_type": "code",
   "execution_count": 51,
   "metadata": {},
   "outputs": [
    {
     "data": {
      "text/plain": [
       "'Two thousand years ago, Nhagruul the Foul, a sorcerer who reveled in corrupting the innocent and the spread of despair, neared the end of his mortal days and was dismayed. Consumed by hatred for the living, Nhagruul sold his soul to the demon Lords of the abyss so that his malign spirit would survive. In an excruciating ritual, Nhagrulls skin was flayed into pages, his bones hammered into a cover, and his diseased blood became the ink to pen a book most vile. Creatures vile and depraved rose from every pit and unclean barrow to partake in the fever of destruction. The kingdoms of Karkoth were consumed by this plague of evil until an order of holy warriors arose from the ashes. The Knights of the New Sun swore an oath to resurrect hope in the land. The purity of their hearts was so great that Pelor, the God of Light, gave the Knights powerful amulets with which to channel his power. Transcendent with divine might, the Knights of the New Sun pierced the shadow that had darkened the land for twelve hundred years and cast it asunder. But not all were awed by their glory. The disciples of Nhagruul disassembled the book and bribed three greedy souls to hide the pieces until they could be retrieved. The ink was discovered and destroyed but, despite years of searching, the cover and pages were never found. Peace ruled the land for centuries and the Knights got lost in the light of their own glory. As memory of the awful events faded so did the power of servants of Pelor. They unwittingly abandoned themselves in the incorrect belief that the Book of Vile Darkness could never again be made whole.Now, the remaining pieces have been discovered, and an ancient evil is attempting to bring them together and restore the relic and the evil it brought. But at the same time a potential new paladin has been named to the Knights of the New Sun to attempt to renew their power to fight this evil. But, to do so, he may need to go against all that he has held dear, risking more that just his own soul in his quest to destroy the evil that surrounds him at every turn.'"
      ]
     },
     "execution_count": 51,
     "metadata": {},
     "output_type": "execute_result"
    }
   ],
   "source": [
    "df[\"plot_synopsis\"][1]"
   ]
  },
  {
   "cell_type": "code",
   "execution_count": 52,
   "metadata": {},
   "outputs": [
    {
     "name": "stdout",
     "output_type": "stream",
     "text": [
      "Title: The Three Faces of Darkness\n",
      "\n",
      "Synopsis:\n",
      "In \"The Telephoner,\" Rosy, a high-priced Parisian call-girl, receives strange phone calls from her escaped ex-pimp, Frank. Terrified, she seeks solace from her estranged lesbian lover, Mary, who turns out to be the caller impersonating Frank. A series of unfortunate events ensues, resulting in the death of Mary and Frank, leaving Rosy in hysteria.\n",
      "\n",
      "In \"The Wurdalak,\" Vladimir D'Urfe, a young nobleman, encounters a beheaded corpse with a knife plunged into its heart during his journey. Seeking shelter at a rural cottage, he learns of the family's battle with the dreaded wurdalak Ali Beg. When Gorcha, the family patriarch, returns home and shows signs of being infected, a series of tragic events unfolds, ultimately leading to Vladimir and Sdenka trying to survive the wurdalaks.\n",
      "\n",
      "In \"The Drop of Water,\" Nurse Helen\n"
     ]
    }
   ],
   "source": [
    "print(response_ai)"
   ]
  },
  {
   "cell_type": "code",
   "execution_count": null,
   "metadata": {},
   "outputs": [],
   "source": []
  }
 ],
 "metadata": {
  "kernelspec": {
   "display_name": "cineethics",
   "language": "python",
   "name": "python3"
  },
  "language_info": {
   "codemirror_mode": {
    "name": "ipython",
    "version": 3
   },
   "file_extension": ".py",
   "mimetype": "text/x-python",
   "name": "python",
   "nbconvert_exporter": "python",
   "pygments_lexer": "ipython3",
   "version": "3.10.6"
  }
 },
 "nbformat": 4,
 "nbformat_minor": 2
}
